{
 "cells": [
  {
   "cell_type": "code",
   "execution_count": 7,
   "id": "269ffc20-1741-4a12-b4fc-c3ee2dc6fbab",
   "metadata": {},
   "outputs": [],
   "source": [
    "# problem 6 2024\n",
    "# https://theofil.web.cern.ch/courses/compPhysics/files/2024/compPhysics_exercises_2024_2025.pdf\n",
    "import numpy as np\n",
    "import matplotlib.pyplot as plt"
   ]
  },
  {
   "cell_type": "code",
   "execution_count": 8,
   "id": "5228dafb-92c2-45e2-8776-a4e042687494",
   "metadata": {},
   "outputs": [],
   "source": [
    "U = np.random.rand\n",
    "σ = 2\n",
    "def f(x): return (x/σ**2)*np.exp(-0.5*x**2/σ**2)\n",
    "fmax = f(2) # from analysis (solving df/dt = 0)\n",
    "def F(x): return 1 - np.exp(-0.5*x**2/σ**2)\n",
    "def Finv(x): return (-2*σ*σ*np.log(1-x))**0.5 "
   ]
  },
  {
   "cell_type": "code",
   "execution_count": 9,
   "id": "e646695d-1fdd-49d0-808a-f35c32ecef59",
   "metadata": {},
   "outputs": [],
   "source": [
    "# x = np.linspace(0, 10, 21)\n",
    "# y = f(x)\n",
    "# plt.plot(x, y)"
   ]
  },
  {
   "cell_type": "code",
   "execution_count": 10,
   "id": "1c00496d-58d7-49f6-ba5d-94012df24292",
   "metadata": {},
   "outputs": [
    {
     "data": {
      "image/png": "[encoded data removed]",
      "text/plain": [
       "<Figure size 640x480 with 1 Axes>"
      ]
     },
     "metadata": {},
     "output_type": "display_data"
    }
   ],
   "source": [
    "N = 10000\n",
    "Xs = [ Finv(U()) for i in range(N) ] # alternatively with a for loop\n",
    "hist, bins, patches = plt.hist(Xs, bins = np.linspace(0, 10, 21), ec = 'black')"
   ]
  },
  {
   "cell_type": "code",
   "execution_count": 11,
   "id": "d818a33f-dfdf-4179-817f-51cd4fd31e5c",
   "metadata": {},
   "outputs": [
    {
     "data": {
      "text/plain": [
       "863.0"
      ]
     },
     "execution_count": 11,
     "metadata": {},
     "output_type": "execute_result"
    }
   ],
   "source": [
    "hist[1]"
   ]
  },
  {
   "cell_type": "code",
   "execution_count": 12,
   "id": "4f9c333d-15f7-4023-bdd9-46a68308249d",
   "metadata": {},
   "outputs": [
    {
     "data": {
      "text/plain": [
       "867.3633189174867"
      ]
     },
     "execution_count": 12,
     "metadata": {},
     "output_type": "execute_result"
    }
   ],
   "source": [
    "(F(1) - F(0.5))*N"
   ]
  },
  {
   "cell_type": "code",
   "execution_count": 13,
   "id": "f4625218-428c-4fcc-9943-b8fff8bc8689",
   "metadata": {},
   "outputs": [
    {
     "name": "stdout",
     "output_type": "stream",
     "text": [
      "frac =  0.2832\n"
     ]
    }
   ],
   "source": [
    "# waves in [3, 5]\n",
    "goodwaves = 0\n",
    "for wave in Xs:\n",
    "    if 3 < wave < 5 : goodwaves += 1\n",
    "print('frac = ', goodwaves/float(N))        "
   ]
  },
  {
   "cell_type": "code",
   "execution_count": 14,
   "id": "481a19f4-bd2b-4e0e-91c9-4336367e192d",
   "metadata": {},
   "outputs": [
    {
     "data": {
      "text/plain": [
       "0.2807155337349423"
      ]
     },
     "execution_count": 14,
     "metadata": {},
     "output_type": "execute_result"
    }
   ],
   "source": [
    "# expected waves in [3,5]\n",
    "F(5) - F(3)"
   ]
  },
  {
   "cell_type": "code",
   "execution_count": 15,
   "id": "4052f23b-175c-4819-aeee-88ec511dcb06",
   "metadata": {},
   "outputs": [
    {
     "data": {
      "text/plain": [
       "(array([104., 276., 453., 481., 491., 411., 365., 256., 193., 106.,  82.,\n",
       "         36.,  15.,   9.,   2.,   0.,   2.,   1.,   0.,   0.]),\n",
       " array([ 0. ,  0.5,  1. ,  1.5,  2. ,  2.5,  3. ,  3.5,  4. ,  4.5,  5. ,\n",
       "         5.5,  6. ,  6.5,  7. ,  7.5,  8. ,  8.5,  9. ,  9.5, 10. ]),\n",
       " <BarContainer object of 20 artists>)"
      ]
     },
     "execution_count": 15,
     "metadata": {},
     "output_type": "execute_result"
    },
    {
     "data": {
      "image/png": "[encoded data removed]",
      "text/plain": [
       "<Figure size 640x480 with 1 Axes>"
      ]
     },
     "metadata": {},
     "output_type": "display_data"
    }
   ],
   "source": [
    "# hit or miss \n",
    "hits = []\n",
    "for i in range(N):\n",
    "    x = 10*U()\n",
    "    y = fmax*U()\n",
    "    if y <= f(x) : hits += [x]\n",
    "\n",
    "plt.hist(hits, bins = np.linspace(0, 10, 21), ec = 'black')"
   ]
  },
  {
   "cell_type": "code",
   "execution_count": 17,
   "id": "0f43c171-0736-4a4c-b298-eb3ac31a7e47",
   "metadata": {},
   "outputs": [
    {
     "name": "stdout",
     "output_type": "stream",
     "text": [
      "eff =  0.3283\n",
      "expectex eff =  0.329743025297555\n"
     ]
    }
   ],
   "source": [
    "eff = len(hits)/float(N)\n",
    "print('eff = ', eff)\n",
    "\n",
    "# expected efficiency\n",
    "\n",
    "print('expectex eff = ', (F(10)-F(0))/(fmax*10))"
   ]
  },
  {
   "cell_type": "code",
   "execution_count": 18,
   "id": "05014eaf-206f-42fa-ba88-08801b075362",
   "metadata": {},
   "outputs": [
    {
     "data": {
      "text/plain": [
       "6.066120715802245"
      ]
     },
     "execution_count": 18,
     "metadata": {},
     "output_type": "execute_result"
    }
   ],
   "source": [
    "# comment from the class: the instructions were asking to compare the number\n",
    "# of random variables used in the two methods, for the same output of waves.\n",
    "# With the inverse transorm, if we use N randoms we get N waves, it's 100% efficient\n",
    "# With hits or miss we need 2*N/0.3297 random Us in order to get about ~10000 randoms\n",
    "# It's 6 times more expensive\n",
    "2/0.3297"
   ]
  },
  {
   "cell_type": "markdown",
   "id": "ff3552a2-9ec8-4df1-979b-ae9aa1e02631",
   "metadata": {},
   "source": [
    "# Deriving the CDF and Inverse CDF of the Rayleigh Distribution\n",
    "\n",
    "The Rayleigh distribution describes the distribution of the magnitude of a vector with Gaussian-distributed components. The probability density function (PDF) of the Rayleigh distribution for a given scale parameter $ \\sigma $ is:\n",
    "\n",
    "$$\n",
    "f(x; \\sigma) = \\frac{x}{\\sigma^2} e^{-\\frac{x^2}{2\\sigma^2}}, \\quad x \\geq 0\n",
    "$$\n",
    "\n",
    "\n",
    "To find the cumulative distribution function $ F(x) $, we integrate the PDF from 0 to $ x $:\n",
    "\n",
    "$$\n",
    "F(x; \\sigma) = \\int_{0}^{x} f(t; \\sigma) \\, dt\n",
    "$$\n",
    "\n",
    "Substitute $ f(t; \\sigma) $:\n",
    "\n",
    "$$\n",
    "F(x; \\sigma) = \\int_{0}^{x} \\frac{t}{\\sigma^2} e^{-\\frac{t^2}{2\\sigma^2}} \\, dt\n",
    "$$\n",
    "\n",
    "To solve this integral, we use the substitution $ u = \\frac{t^2}{2\\sigma^2} $, which gives $ du = \\frac{t}{\\sigma^2} \\, dt $.\n",
    "\n",
    "Rewriting the integral in terms of $ w $:\n",
    "\n",
    "$$\n",
    "F(x; \\sigma) = \\int_{0}^{\\frac{x^2}{2\\sigma^2}} e^{-w} \\, dw\n",
    "$$\n",
    "\n",
    "Now, integrate \\( e^{-w} \\):\n",
    "\n",
    "$$\n",
    "F(x; \\sigma) = \\left[-e^{-w}\\right]_{0}^{\\frac{x^2}{2\\sigma^2}}\n",
    "$$\n",
    "\n",
    "Evaluating this expression:\n",
    "\n",
    "$$\n",
    "F(x; \\sigma) = 1 - e^{-\\frac{x^2}{2\\sigma^2}}\n",
    "$$\n",
    "\n",
    "Thus, the CDF of the Rayleigh distribution is:\n",
    "\n",
    "$$\n",
    "F(x; \\sigma) = 1 - e^{-\\frac{x^2}{2\\sigma^2}}, \\quad x \\geq 0\n",
    "$$\n",
    "\n",
    "The inverse CDF, also called the quantile function, is found by solving $ F(x) = u $ for $ x $:\n",
    "\n",
    "1. Set $ F(x) = u $:\n",
    "\n",
    "   $$\n",
    "   u = 1 - e^{-\\frac{x^2}{2\\sigma^2}}\n",
    "   $$\n",
    "\n",
    "2. Rearrange to isolate the exponential term:\n",
    "\n",
    "   $$\n",
    "   e^{-\\frac{x^2}{2\\sigma^2}} = 1 - u\n",
    "   $$\n",
    "\n",
    "3. Take the natural logarithm of both sides:\n",
    "\n",
    "   $$\n",
    "   -\\frac{x^2}{2\\sigma^2} = \\ln(1 - u)\n",
    "   $$\n",
    "\n",
    "4. Solve for $ x $:\n",
    "\n",
    "   $$\n",
    "   x = \\sigma \\sqrt{-2 \\ln(1 - u)}\n",
    "   $$\n",
    "\n",
    "Thus, the inverse CDF (quantile function) is:\n",
    "\n",
    "$$\n",
    "F^{-1}(u; \\sigma) = \\sigma \\sqrt{-2 \\ln(1 - u)}, \\quad 0 \\leq u < 1\n",
    "$$"
   ]
  },
  {
   "cell_type": "markdown",
   "id": "8ebe85fc-f68f-4454-8470-540ba2f6420e",
   "metadata": {},
   "source": []
  }
 ],
 "metadata": {
  "kernelspec": {
   "display_name": "Python 3 (ipykernel)",
   "language": "python",
   "name": "python3"
  },
  "language_info": {
   "codemirror_mode": {
    "name": "ipython",
    "version": 3
   },
   "file_extension": ".py",
   "mimetype": "text/x-python",
   "name": "python",
   "nbconvert_exporter": "python",
   "pygments_lexer": "ipython3",
   "version": "3.9.12"
  }
 },
 "nbformat": 4,
 "nbformat_minor": 5
}

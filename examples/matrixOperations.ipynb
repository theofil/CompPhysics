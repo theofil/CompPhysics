{
 "cells": [
  {
   "cell_type": "code",
   "execution_count": 1,
   "id": "842a30c1-8bee-4bc0-86e7-57ad208904c5",
   "metadata": {},
   "outputs": [],
   "source": [
    "# Code by Konstantinos Theofilatos 16.11.2023\n",
    "import numpy as np\n",
    "import matplotlib.pyplot as plt\n",
    "plt.rc('font', size=20) \n",
    "\n",
    "η= np.array([\n",
    "        [-1, 0, 0, 0],\n",
    "        [0 , 1, 0, 0],\n",
    "        [0 , 0, 1, 0],\n",
    "        [0 , 0, 0, 1]\n",
    "    ])\n",
    "\n",
    "C = np.array([\n",
    "    [1, 2, 3, 4],\n",
    "    [5, 6, 7, 8],\n",
    "    [9, 10, 11, 12],\n",
    "    [13, 14, 15, 16]\n",
    "    ])\n",
    "\n",
    "X = np.array([\n",
    "    [1],\n",
    "    [2],\n",
    "    [3],\n",
    "    [4]\n",
    "    ])\n",
    "\n",
    "Y = np.array([\n",
    "    [5],\n",
    "    [6],\n",
    "    [7],\n",
    "    [8]\n",
    "    ])"
   ]
  },
  {
   "cell_type": "code",
   "execution_count": 3,
   "id": "bde25dba-4925-4206-a0ed-8e12b51377f9",
   "metadata": {},
   "outputs": [
    {
     "data": {
      "text/plain": [
       "array([[ 30],\n",
       "       [ 70],\n",
       "       [110],\n",
       "       [150]])"
      ]
     },
     "execution_count": 3,
     "metadata": {},
     "output_type": "execute_result"
    }
   ],
   "source": [
    "# A)\n",
    "C@X"
   ]
  },
  {
   "cell_type": "code",
   "execution_count": 8,
   "id": "3e98225e-c9ee-4146-8e8c-7b2575b16c3b",
   "metadata": {},
   "outputs": [
    {
     "data": {
      "text/plain": [
       "array([[ 90],\n",
       "       [100],\n",
       "       [110],\n",
       "       [120]])"
      ]
     },
     "execution_count": 8,
     "metadata": {},
     "output_type": "execute_result"
    }
   ],
   "source": [
    "C.T@X"
   ]
  },
  {
   "cell_type": "code",
   "execution_count": 12,
   "id": "1aeaeb66-b3ab-4cac-8756-2dcb51b5cf7f",
   "metadata": {},
   "outputs": [
    {
     "data": {
      "text/plain": [
       "array([[70]])"
      ]
     },
     "execution_count": 12,
     "metadata": {},
     "output_type": "execute_result"
    }
   ],
   "source": [
    "Y.T@X"
   ]
  },
  {
   "cell_type": "code",
   "execution_count": 16,
   "id": "f3822bd5-e6df-4dda-b868-9091d794a8e0",
   "metadata": {},
   "outputs": [
    {
     "data": {
      "text/plain": [
       "array([[ 5,  6,  7,  8],\n",
       "       [10, 12, 14, 16],\n",
       "       [15, 18, 21, 24],\n",
       "       [20, 24, 28, 32]])"
      ]
     },
     "execution_count": 16,
     "metadata": {},
     "output_type": "execute_result"
    }
   ],
   "source": [
    "X*Y.T"
   ]
  },
  {
   "cell_type": "code",
   "execution_count": 18,
   "id": "96d9bc87-2c60-4b6e-adc1-12e0f2651d5c",
   "metadata": {},
   "outputs": [
    {
     "data": {
      "text/plain": [
       "array([[-1],\n",
       "       [ 2],\n",
       "       [ 3],\n",
       "       [ 4]])"
      ]
     },
     "execution_count": 18,
     "metadata": {},
     "output_type": "execute_result"
    }
   ],
   "source": [
    "# B\n",
    "η@X"
   ]
  },
  {
   "cell_type": "code",
   "execution_count": 19,
   "id": "a0327b1b-5ffc-4cbb-9dc1-88022702e723",
   "metadata": {},
   "outputs": [
    {
     "data": {
      "text/plain": [
       "array([[-5],\n",
       "       [ 6],\n",
       "       [ 7],\n",
       "       [ 8]])"
      ]
     },
     "execution_count": 19,
     "metadata": {},
     "output_type": "execute_result"
    }
   ],
   "source": [
    "η@Y"
   ]
  },
  {
   "cell_type": "code",
   "execution_count": 20,
   "id": "dab8746b-063a-4d9e-b2b7-fe565a3978b7",
   "metadata": {},
   "outputs": [
    {
     "data": {
      "text/plain": [
       "array([[-1, -2, -3, -4],\n",
       "       [ 5,  6,  7,  8],\n",
       "       [ 9, 10, 11, 12],\n",
       "       [13, 14, 15, 16]])"
      ]
     },
     "execution_count": 20,
     "metadata": {},
     "output_type": "execute_result"
    }
   ],
   "source": [
    "η@C"
   ]
  },
  {
   "cell_type": "code",
   "execution_count": 21,
   "id": "cf4061c5-07e5-4d03-8d09-8815798f6286",
   "metadata": {},
   "outputs": [
    {
     "data": {
      "text/plain": [
       "array([[ -1,   2,   3,   4],\n",
       "       [ -5,   6,   7,   8],\n",
       "       [ -9,  10,  11,  12],\n",
       "       [-13,  14,  15,  16]])"
      ]
     },
     "execution_count": 21,
     "metadata": {},
     "output_type": "execute_result"
    }
   ],
   "source": [
    "C@η"
   ]
  },
  {
   "cell_type": "code",
   "execution_count": 22,
   "id": "aeed94fc-e4d2-4428-9b26-0d61fc203e70",
   "metadata": {},
   "outputs": [
    {
     "data": {
      "text/plain": [
       "array([[  1,  -2,  -3,  -4],\n",
       "       [ -5,   6,   7,   8],\n",
       "       [ -9,  10,  11,  12],\n",
       "       [-13,  14,  15,  16]])"
      ]
     },
     "execution_count": 22,
     "metadata": {},
     "output_type": "execute_result"
    }
   ],
   "source": [
    "η@C@η"
   ]
  },
  {
   "cell_type": "code",
   "execution_count": null,
   "id": "3cddf9a1-59b8-48ce-84fd-9d94eff566b8",
   "metadata": {},
   "outputs": [],
   "source": []
  }
 ],
 "metadata": {
  "kernelspec": {
   "display_name": "Python 3 (ipykernel)",
   "language": "python",
   "name": "python3"
  },
  "language_info": {
   "codemirror_mode": {
    "name": "ipython",
    "version": 3
   },
   "file_extension": ".py",
   "mimetype": "text/x-python",
   "name": "python",
   "nbconvert_exporter": "python",
   "pygments_lexer": "ipython3",
   "version": "3.9.12"
  }
 },
 "nbformat": 4,
 "nbformat_minor": 5
}

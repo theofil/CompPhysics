{
 "cells": [
  {
   "cell_type": "code",
   "execution_count": 1,
   "id": "15da0358-04a9-483f-b8dd-6e1c7aae70b7",
   "metadata": {},
   "outputs": [],
   "source": [
    "# solution of problem 12 (2024)\n",
    "# https://theofil.web.cern.ch/courses/compPhysics/files/2024/compPhysics_exercises_2024_2025.pdf\n",
    "import numpy as np\n",
    "import matplotlib.pyplot as plt\n",
    "U = np.random.rand"
   ]
  },
  {
   "cell_type": "code",
   "execution_count": 7,
   "id": "69f8f90e-de7a-4224-b75f-6f9de9cb503e",
   "metadata": {},
   "outputs": [],
   "source": [
    "def f(x,y): return (5/(648*np.pi))*(x*x + y*y)"
   ]
  },
  {
   "cell_type": "code",
   "execution_count": 17,
   "id": "ffb098ff-636d-4faf-820e-ccf19c692acb",
   "metadata": {},
   "outputs": [
    {
     "name": "stdout",
     "output_type": "stream",
     "text": [
      "0.5234623 0.5235987755982988\n",
      "I = 0.999 +/- 0.001\n"
     ]
    }
   ],
   "source": [
    "N = 10000000\n",
    "R = 3\n",
    "hits = 0\n",
    "\n",
    "Vcube = (2*R)**3\n",
    "Vsphere = (4/3.)*np.pi*R**3\n",
    "fmax = f(R, R)\n",
    "n = 0\n",
    "for i in range(N):\n",
    "    x = 2*R*U() - R \n",
    "    y = 2*R*U() - R \n",
    "    z = 2*R*U() - R\n",
    "    w = fmax*U()    # 4th Dimension for the function\n",
    "    if x*x + y*y + z*z < R**2:\n",
    "        hits += 1\n",
    "        if (w < f(x,y)): n += 1\n",
    "\n",
    "print(hits/N, Vsphere/Vcube)\n",
    "p = n/N\n",
    "V = Vcube*fmax\n",
    "I = p*V\n",
    "δI = V*(p-p*p)**0.5/N**0.5\n",
    "# print('I = ', I, ' δI = ', δI)\n",
    "print('I = %2.3f +/- %2.3f'%(I, δI))\n",
    "#\n",
    "# follow-up exercise: do the same integral with 3D crude MC\n",
    "#"
   ]
  },
  {
   "cell_type": "code",
   "execution_count": null,
   "id": "b54edcb1-f70f-450e-8b25-fe20eb1d0468",
   "metadata": {},
   "outputs": [],
   "source": []
  }
 ],
 "metadata": {
  "kernelspec": {
   "display_name": "Python 3 (ipykernel)",
   "language": "python",
   "name": "python3"
  },
  "language_info": {
   "codemirror_mode": {
    "name": "ipython",
    "version": 3
   },
   "file_extension": ".py",
   "mimetype": "text/x-python",
   "name": "python",
   "nbconvert_exporter": "python",
   "pygments_lexer": "ipython3",
   "version": "3.9.12"
  }
 },
 "nbformat": 4,
 "nbformat_minor": 5
}

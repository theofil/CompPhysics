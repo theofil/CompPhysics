{
 "cells": [
  {
   "cell_type": "code",
   "execution_count": 35,
   "id": "2c552bb8-c110-4f85-80ee-bd191e0f2d7c",
   "metadata": {},
   "outputs": [
    {
     "name": "stdout",
     "output_type": "stream",
     "text": [
      "-7 4 3\n",
      "4.666666666666667 4.222222222222222 4.611111111111111\n",
      "4.7407407407407405 4.78395061728395 4.891975308641975\n",
      "4.92798353909465 4.939986282578875 4.969993141289438\n",
      "4.979995427526291 4.983329522938576 4.991664761469288\n"
     ]
    }
   ],
   "source": [
    "# Gauss Seidel\n",
    "x1, x2, x3 = -7, 4 ,3\n",
    "for i in range(5):\n",
    "    print(x1, x2, x3)\n",
    "    x1 = (10 + x2)/3\n",
    "    x2 = (5 + x1 + x3)/3\n",
    "    x3 = (10 + 2*x2)/4"
   ]
  },
  {
   "cell_type": "code",
   "execution_count": 32,
   "id": "c2aa1e08-344c-4da5-85f3-81abe3d3cf7d",
   "metadata": {},
   "outputs": [
    {
     "name": "stdout",
     "output_type": "stream",
     "text": [
      "-7 4 3\n",
      "4.666666666666667 0.3333333333333333 4.5\n",
      "3.4444444444444446 4.722222222222222 2.6666666666666665\n",
      "4.907407407407407 3.7037037037037037 4.861111111111111\n",
      "4.567901234567901 4.922839506172839 4.351851851851852\n"
     ]
    }
   ],
   "source": [
    "# Jacobi\n",
    "x1, x2, x3 = -7, 4 ,3\n",
    "for i in range(5):\n",
    "    print(x1, x2, x3)\n",
    "    y1, y2, y3 = x1, x2, x3\n",
    "    x1 = (10 + y2)/3\n",
    "    x2 = (5 + y1 + y3)/3\n",
    "    x3 = (10 + 2*y2)/4"
   ]
  },
  {
   "cell_type": "code",
   "execution_count": 33,
   "id": "2efa9e28-36ae-4a07-8051-bf5202a2588f",
   "metadata": {},
   "outputs": [],
   "source": [
    "# ektos ylis\n",
    "import numpy as np\n",
    "A = np.array([[3, -1, 0], [-1, 3, -1], [0, -2, 4]])\n",
    "\n",
    "X = np.array([[x1], [x2], [x3]])"
   ]
  },
  {
   "cell_type": "code",
   "execution_count": 34,
   "id": "6dd97e15-871a-457b-a45f-9fd43beb3398",
   "metadata": {},
   "outputs": [
    {
     "data": {
      "text/plain": [
       "array([[10.28292181],\n",
       "       [ 3.9840535 ],\n",
       "       [10.56584362]])"
      ]
     },
     "execution_count": 34,
     "metadata": {},
     "output_type": "execute_result"
    }
   ],
   "source": [
    "A@X"
   ]
  },
  {
   "cell_type": "code",
   "execution_count": 15,
   "id": "a16a5c86-469a-4ead-b03d-04e53bababb6",
   "metadata": {},
   "outputs": [
    {
     "data": {
      "text/plain": [
       "(3, 1)"
      ]
     },
     "execution_count": 15,
     "metadata": {},
     "output_type": "execute_result"
    }
   ],
   "source": [
    "X.shape"
   ]
  },
  {
   "cell_type": "code",
   "execution_count": null,
   "id": "1256c556-11d1-4adc-8888-6a54f4e22ba4",
   "metadata": {},
   "outputs": [],
   "source": []
  },
  {
   "cell_type": "code",
   "execution_count": null,
   "id": "0a140c0d-bbe5-4fec-84a6-c87a3f2fe455",
   "metadata": {},
   "outputs": [],
   "source": []
  }
 ],
 "metadata": {
  "kernelspec": {
   "display_name": "Python 3 (ipykernel)",
   "language": "python",
   "name": "python3"
  },
  "language_info": {
   "codemirror_mode": {
    "name": "ipython",
    "version": 3
   },
   "file_extension": ".py",
   "mimetype": "text/x-python",
   "name": "python",
   "nbconvert_exporter": "python",
   "pygments_lexer": "ipython3",
   "version": "3.9.12"
  }
 },
 "nbformat": 4,
 "nbformat_minor": 5
}

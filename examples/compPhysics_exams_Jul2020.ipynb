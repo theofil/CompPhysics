{
 "cells": [
  {
   "cell_type": "code",
   "execution_count": 31,
   "id": "2043a3d6",
   "metadata": {},
   "outputs": [],
   "source": [
    "import numpy as np\n",
    "import matplotlib.pyplot as plt\n",
    "U = np.random.rand"
   ]
  },
  {
   "cell_type": "code",
   "execution_count": 32,
   "id": "9640064f",
   "metadata": {},
   "outputs": [
    {
     "name": "stdout",
     "output_type": "stream",
     "text": [
      "I = 3.040 +/- 0.171 \n",
      "δI/I = 0.056 \n"
     ]
    }
   ],
   "source": [
    "N = 100\n",
    "n = 0\n",
    "r = 1\n",
    "for i in range(N):\n",
    "    x = 2*r*U() - r\n",
    "    y = 2*r*U() - r\n",
    "    if x**2 + y**2 <= r**2: n += 1\n",
    "        \n",
    "p   = n/N\n",
    "V   = (2*r)**2\n",
    "I   = p*V\n",
    "δI  = V*(p-p*p)**0.5/N**0.5\n",
    "print('I = %2.3f +/- %2.3f '%(I, δI))\n",
    "print('δI/I = %2.3f '%(δI/I))"
   ]
  },
  {
   "cell_type": "code",
   "execution_count": 33,
   "id": "7c5b5420",
   "metadata": {},
   "outputs": [],
   "source": [
    "# cross check -- not part of the solution\n",
    "def integrate():\n",
    "    N = 100\n",
    "    n = 0\n",
    "    r = 1\n",
    "    for i in range(N):\n",
    "        x = 2*r*U() - r\n",
    "        y = 2*r*U() - r\n",
    "        if x**2 + y**2 <= r**2: n += 1\n",
    "\n",
    "    p   = n/N\n",
    "    V   = (2*r)**2\n",
    "    I   = p*V\n",
    "    δI  = V*(p-p*p)**0.5/N**0.5\n",
    "    return I"
   ]
  },
  {
   "cell_type": "code",
   "execution_count": 36,
   "id": "1c42ebbe",
   "metadata": {},
   "outputs": [],
   "source": [
    "integrals = [integrate() for _ in range(100000)]"
   ]
  },
  {
   "cell_type": "code",
   "execution_count": 47,
   "id": "92b70751",
   "metadata": {},
   "outputs": [
    {
     "data": {
      "image/png": "[encoded data removed]",
      "text/plain": [
       "<Figure size 640x480 with 1 Axes>"
      ]
     },
     "metadata": {},
     "output_type": "display_data"
    }
   ],
   "source": [
    "pi = np.arccos(-1)\n",
    "_ = plt.hist(integrals, bins = np.linspace(pi - 1, pi + 1, 101), ec = 'black')"
   ]
  },
  {
   "cell_type": "code",
   "execution_count": 53,
   "id": "860fb44f",
   "metadata": {},
   "outputs": [
    {
     "name": "stdout",
     "output_type": "stream",
     "text": [
      "<I> = 3.141146\n",
      "(<I2> - <I>**2)**0.5 = 0.164054\n",
      "<σΙ>/<Ι>= 0.052228\n"
     ]
    }
   ],
   "source": [
    "integrals = np.array(integrals)\n",
    "print('<I> = %2.6f'%integrals.mean())\n",
    "print('(<I2> - <I>**2)**0.5 = %2.6f'%integrals.std())\n",
    "print('<σΙ>/<Ι>= %2.6f'%(integrals.std()/integrals.mean()))"
   ]
  }
 ],
 "metadata": {
  "kernelspec": {
   "display_name": "Python 3 (ipykernel)",
   "language": "python",
   "name": "python3"
  },
  "language_info": {
   "codemirror_mode": {
    "name": "ipython",
    "version": 3
   },
   "file_extension": ".py",
   "mimetype": "text/x-python",
   "name": "python",
   "nbconvert_exporter": "python",
   "pygments_lexer": "ipython3",
   "version": "3.9.12"
  }
 },
 "nbformat": 4,
 "nbformat_minor": 5
}

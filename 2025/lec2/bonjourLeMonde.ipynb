{
 "cells": [
  {
   "cell_type": "code",
   "execution_count": 4,
   "id": "196a0c9f",
   "metadata": {},
   "outputs": [
    {
     "name": "stdout",
     "output_type": "stream",
     "text": [
      "23 23\n"
     ]
    }
   ],
   "source": [
    "xs = [5,1,2,4,5,5,3,5,1,5,1,2,2,3,3,2,4,4,3,3,1,1,4]\n",
    "\n",
    "counts = 0\n",
    "N = len(xs)\n",
    "# for i in range(N):\n",
    "#     counts = counts + 1 \n",
    "\n",
    "for x in xs:\n",
    "    counts = counts + 1\n",
    "    \n",
    "print(counts, N)"
   ]
  },
  {
   "cell_type": "code",
   "execution_count": 5,
   "id": "a2a46a00",
   "metadata": {},
   "outputs": [
    {
     "data": {
      "text/plain": [
       "(array([0., 5., 4., 5., 4., 5., 0., 0.]),\n",
       " array([0., 1., 2., 3., 4., 5., 6., 7., 8.]),\n",
       " <BarContainer object of 8 artists>)"
      ]
     },
     "execution_count": 5,
     "metadata": {},
     "output_type": "execute_result"
    },
    {
     "data": {
      "image/png": "[encoded data removed]",
      "text/plain": [
       "<Figure size 640x480 with 1 Axes>"
      ]
     },
     "metadata": {},
     "output_type": "display_data"
    }
   ],
   "source": [
    "import matplotlib.pyplot as plt\n",
    "plt.hist(xs, bins = [0,1,2,3,4,5,6,7,8], ec = 'black')"
   ]
  },
  {
   "cell_type": "code",
   "execution_count": null,
   "id": "8c173f84",
   "metadata": {},
   "outputs": [],
   "source": []
  }
 ],
 "metadata": {
  "kernelspec": {
   "display_name": "Python 3 (ipykernel)",
   "language": "python",
   "name": "python3"
  },
  "language_info": {
   "codemirror_mode": {
    "name": "ipython",
    "version": 3
   },
   "file_extension": ".py",
   "mimetype": "text/x-python",
   "name": "python",
   "nbconvert_exporter": "python",
   "pygments_lexer": "ipython3",
   "version": "3.10.10"
  }
 },
 "nbformat": 4,
 "nbformat_minor": 5
}

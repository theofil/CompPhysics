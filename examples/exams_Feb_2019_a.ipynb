{
 "cells": [
  {
   "cell_type": "code",
   "execution_count": 5,
   "id": "abaa5684",
   "metadata": {},
   "outputs": [],
   "source": [
    "import numpy as np\n",
    "import matplotlib.pyplot as plt"
   ]
  },
  {
   "cell_type": "code",
   "execution_count": 6,
   "id": "7214265b",
   "metadata": {},
   "outputs": [],
   "source": [
    "def f(x): return x**3 - 2\n",
    "def fdot(x): return 3*x**2 "
   ]
  },
  {
   "cell_type": "code",
   "execution_count": 23,
   "id": "da2276a9",
   "metadata": {},
   "outputs": [
    {
     "name": "stdout",
     "output_type": "stream",
     "text": [
      "x[0] = 2.000\n",
      "x[1] = 1.500\n",
      "x[2] = 1.296\n",
      "x[3] = 1.261\n"
     ]
    }
   ],
   "source": [
    "x = 2\n",
    "for i in range(4):\n",
    "    print('x[%d] = %2.3f'%(i, x))\n",
    "\n",
    "    x = x - f(x)/fdot(x)\n"
   ]
  },
  {
   "cell_type": "code",
   "execution_count": 25,
   "id": "40523a83",
   "metadata": {},
   "outputs": [
    {
     "name": "stdout",
     "output_type": "stream",
     "text": [
      "0.001\n"
     ]
    }
   ],
   "source": [
    "x3 = 1.261\n",
    "x  = 2**(1/3.)\n",
    "print('%2.3f'%((x3 - x)/x))"
   ]
  }
 ],
 "metadata": {
  "kernelspec": {
   "display_name": "Python 3 (ipykernel)",
   "language": "python",
   "name": "python3"
  },
  "language_info": {
   "codemirror_mode": {
    "name": "ipython",
    "version": 3
   },
   "file_extension": ".py",
   "mimetype": "text/x-python",
   "name": "python",
   "nbconvert_exporter": "python",
   "pygments_lexer": "ipython3",
   "version": "3.9.12"
  }
 },
 "nbformat": 4,
 "nbformat_minor": 5
}

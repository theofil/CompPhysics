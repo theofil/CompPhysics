{
 "cells": [
  {
   "cell_type": "code",
   "execution_count": 123,
   "id": "9c1a7da6-bfd5-4c74-9889-dbe7fd443e35",
   "metadata": {},
   "outputs": [],
   "source": [
    "import numpy as np\n",
    "import matplotlib.pyplot as plt"
   ]
  },
  {
   "cell_type": "code",
   "execution_count": 124,
   "id": "b12dff1a-9b21-4b8a-a21c-010015d8e8ab",
   "metadata": {},
   "outputs": [],
   "source": [
    "U = np.random.rand\n",
    "# plt.hist([U() for i in range(5000)], bins = np.linspace(0,1, 11), ec = 'black')"
   ]
  },
  {
   "cell_type": "code",
   "execution_count": 125,
   "id": "c17aa7ec-ad5b-4864-bf9b-12dcba0652de",
   "metadata": {},
   "outputs": [],
   "source": [
    "def dice():\n",
    "    res = 0\n",
    "    res = U()\n",
    "    if 5/6. <= res < 1.0  : res = 6\n",
    "    if 4/6. <= res < 5/6. : res = 5\n",
    "    if 3/6. <= res < 4/6. : res = 4\n",
    "    if 2/6. <= res < 3/6. : res = 3\n",
    "    if 1/6. <= res < 2/6. : res = 2\n",
    "    if 0/6. <= res < 1/6. : res = 1\n",
    "    return res\n",
    "\n",
    "# plt.hist([dice() for _ in range(600000)], bins = np.linspace(0,10, 11), ec = 'black')"
   ]
  },
  {
   "cell_type": "code",
   "execution_count": 137,
   "id": "e58d5f11-f5ec-4378-b33b-29e90d4f0496",
   "metadata": {},
   "outputs": [
    {
     "name": "stdout",
     "output_type": "stream",
     "text": [
      "here is not a line of the function\n"
     ]
    },
    {
     "data": {
      "text/plain": [
       "(array([0.0000e+00, 0.0000e+00, 1.6588e+04, 2.7330e+03, 6.4000e+01,\n",
       "        4.3590e+03, 1.4895e+04, 1.8406e+04, 1.2652e+04, 7.0110e+03,\n",
       "        5.0360e+03, 4.5220e+03, 3.7080e+03, 2.5030e+03, 1.7840e+03,\n",
       "        1.3830e+03, 1.1200e+03, 8.0100e+02, 5.8600e+02, 4.7400e+02,\n",
       "        3.2700e+02, 2.7100e+02, 1.9600e+02, 1.3100e+02, 1.0100e+02,\n",
       "        7.9000e+01, 6.3000e+01, 5.0000e+01, 3.4000e+01, 3.0000e+01,\n",
       "        2.2000e+01, 1.3000e+01, 1.1000e+01, 1.0000e+01, 1.2000e+01,\n",
       "        5.0000e+00, 4.0000e+00, 3.0000e+00, 2.0000e+00, 5.0000e+00]),\n",
       " array([ 0.,  1.,  2.,  3.,  4.,  5.,  6.,  7.,  8.,  9., 10., 11., 12.,\n",
       "        13., 14., 15., 16., 17., 18., 19., 20., 21., 22., 23., 24., 25.,\n",
       "        26., 27., 28., 29., 30., 31., 32., 33., 34., 35., 36., 37., 38.,\n",
       "        39., 40.]),\n",
       " <BarContainer object of 40 artists>)"
      ]
     },
     "execution_count": 137,
     "metadata": {},
     "output_type": "execute_result"
    },
    {
     "data": {
      "image/png": "[encoded data removed]",
      "text/plain": [
       "<Figure size 640x480 with 1 Axes>"
      ]
     },
     "metadata": {},
     "output_type": "display_data"
    }
   ],
   "source": [
    "def game():\n",
    "    Nmax = 100\n",
    "    pos  = 1 \n",
    "    n    = 0\n",
    "    for i in range(Nmax):\n",
    "        pos += dice()\n",
    "        n   += 1\n",
    "        if pos == 3 : pos = 24\n",
    "        if pos == 21: pos = 7\n",
    "        if pos >= 25: \n",
    "            # print('win at n = ', n)\n",
    "            return n\n",
    "            break\n",
    "print(\"here is not a line of the function\")            \n",
    "games = [game() for _ in range(100000)] \n",
    "plt.hist(games, bins = np.linspace(0, 40, 41), ec = 'black')"
   ]
  },
  {
   "cell_type": "code",
   "execution_count": 127,
   "id": "30af5bc1-3fd1-4625-b7ab-9850a4dc6194",
   "metadata": {},
   "outputs": [],
   "source": [
    "# games = np.array(games)\n",
    "# print('n = %.2f σ = %.2f'%(games.mean(), games.std()))"
   ]
  },
  {
   "cell_type": "code",
   "execution_count": 130,
   "id": "d59febcc-821e-43b2-a720-f6ec1bdf0d97",
   "metadata": {},
   "outputs": [
    {
     "name": "stdout",
     "output_type": "stream",
     "text": [
      "mean =  7.51282\n"
     ]
    }
   ],
   "source": [
    "Σx = 0\n",
    "N = len(games)\n",
    "for x in games:\n",
    "    Σx += x\n",
    "\n",
    "print('mean = ', Σx/N)"
   ]
  },
  {
   "cell_type": "code",
   "execution_count": 133,
   "id": "2926f109-109a-4ac4-a3c8-ca9a41adbf8d",
   "metadata": {},
   "outputs": [
    {
     "data": {
      "text/plain": [
       "\u001b[0;31mSignature:\u001b[0m\n",
       "\u001b[0mplt\u001b[0m\u001b[0;34m.\u001b[0m\u001b[0mhist\u001b[0m\u001b[0;34m(\u001b[0m\u001b[0;34m\u001b[0m\n",
       "\u001b[0;34m\u001b[0m    \u001b[0mx\u001b[0m\u001b[0;34m:\u001b[0m \u001b[0;34m'ArrayLike | Sequence[ArrayLike]'\u001b[0m\u001b[0;34m,\u001b[0m\u001b[0;34m\u001b[0m\n",
       "\u001b[0;34m\u001b[0m    \u001b[0mbins\u001b[0m\u001b[0;34m:\u001b[0m \u001b[0;34m'int | Sequence[float] | str | None'\u001b[0m \u001b[0;34m=\u001b[0m \u001b[0;32mNone\u001b[0m\u001b[0;34m,\u001b[0m\u001b[0;34m\u001b[0m\n",
       "\u001b[0;34m\u001b[0m    \u001b[0mrange\u001b[0m\u001b[0;34m:\u001b[0m \u001b[0;34m'tuple[float, float] | None'\u001b[0m \u001b[0;34m=\u001b[0m \u001b[0;32mNone\u001b[0m\u001b[0;34m,\u001b[0m\u001b[0;34m\u001b[0m\n",
       "\u001b[0;34m\u001b[0m    \u001b[0mdensity\u001b[0m\u001b[0;34m:\u001b[0m \u001b[0;34m'bool'\u001b[0m \u001b[0;34m=\u001b[0m \u001b[0;32mFalse\u001b[0m\u001b[0;34m,\u001b[0m\u001b[0;34m\u001b[0m\n",
       "\u001b[0;34m\u001b[0m    \u001b[0mweights\u001b[0m\u001b[0;34m:\u001b[0m \u001b[0;34m'ArrayLike | None'\u001b[0m \u001b[0;34m=\u001b[0m \u001b[0;32mNone\u001b[0m\u001b[0;34m,\u001b[0m\u001b[0;34m\u001b[0m\n",
       "\u001b[0;34m\u001b[0m    \u001b[0mcumulative\u001b[0m\u001b[0;34m:\u001b[0m \u001b[0;34m'bool | float'\u001b[0m \u001b[0;34m=\u001b[0m \u001b[0;32mFalse\u001b[0m\u001b[0;34m,\u001b[0m\u001b[0;34m\u001b[0m\n",
       "\u001b[0;34m\u001b[0m    \u001b[0mbottom\u001b[0m\u001b[0;34m:\u001b[0m \u001b[0;34m'ArrayLike | float | None'\u001b[0m \u001b[0;34m=\u001b[0m \u001b[0;32mNone\u001b[0m\u001b[0;34m,\u001b[0m\u001b[0;34m\u001b[0m\n",
       "\u001b[0;34m\u001b[0m    \u001b[0mhisttype\u001b[0m\u001b[0;34m:\u001b[0m \u001b[0;34m\"Literal['bar', 'barstacked', 'step', 'stepfilled']\"\u001b[0m \u001b[0;34m=\u001b[0m \u001b[0;34m'bar'\u001b[0m\u001b[0;34m,\u001b[0m\u001b[0;34m\u001b[0m\n",
       "\u001b[0;34m\u001b[0m    \u001b[0malign\u001b[0m\u001b[0;34m:\u001b[0m \u001b[0;34m\"Literal['left', 'mid', 'right']\"\u001b[0m \u001b[0;34m=\u001b[0m \u001b[0;34m'mid'\u001b[0m\u001b[0;34m,\u001b[0m\u001b[0;34m\u001b[0m\n",
       "\u001b[0;34m\u001b[0m    \u001b[0morientation\u001b[0m\u001b[0;34m:\u001b[0m \u001b[0;34m\"Literal['vertical', 'horizontal']\"\u001b[0m \u001b[0;34m=\u001b[0m \u001b[0;34m'vertical'\u001b[0m\u001b[0;34m,\u001b[0m\u001b[0;34m\u001b[0m\n",
       "\u001b[0;34m\u001b[0m    \u001b[0mrwidth\u001b[0m\u001b[0;34m:\u001b[0m \u001b[0;34m'float | None'\u001b[0m \u001b[0;34m=\u001b[0m \u001b[0;32mNone\u001b[0m\u001b[0;34m,\u001b[0m\u001b[0;34m\u001b[0m\n",
       "\u001b[0;34m\u001b[0m    \u001b[0mlog\u001b[0m\u001b[0;34m:\u001b[0m \u001b[0;34m'bool'\u001b[0m \u001b[0;34m=\u001b[0m \u001b[0;32mFalse\u001b[0m\u001b[0;34m,\u001b[0m\u001b[0;34m\u001b[0m\n",
       "\u001b[0;34m\u001b[0m    \u001b[0mcolor\u001b[0m\u001b[0;34m:\u001b[0m \u001b[0;34m'ColorType | Sequence[ColorType] | None'\u001b[0m \u001b[0;34m=\u001b[0m \u001b[0;32mNone\u001b[0m\u001b[0;34m,\u001b[0m\u001b[0;34m\u001b[0m\n",
       "\u001b[0;34m\u001b[0m    \u001b[0mlabel\u001b[0m\u001b[0;34m:\u001b[0m \u001b[0;34m'str | Sequence[str] | None'\u001b[0m \u001b[0;34m=\u001b[0m \u001b[0;32mNone\u001b[0m\u001b[0;34m,\u001b[0m\u001b[0;34m\u001b[0m\n",
       "\u001b[0;34m\u001b[0m    \u001b[0mstacked\u001b[0m\u001b[0;34m:\u001b[0m \u001b[0;34m'bool'\u001b[0m \u001b[0;34m=\u001b[0m \u001b[0;32mFalse\u001b[0m\u001b[0;34m,\u001b[0m\u001b[0;34m\u001b[0m\n",
       "\u001b[0;34m\u001b[0m    \u001b[0;34m*\u001b[0m\u001b[0;34m,\u001b[0m\u001b[0;34m\u001b[0m\n",
       "\u001b[0;34m\u001b[0m    \u001b[0mdata\u001b[0m\u001b[0;34m=\u001b[0m\u001b[0;32mNone\u001b[0m\u001b[0;34m,\u001b[0m\u001b[0;34m\u001b[0m\n",
       "\u001b[0;34m\u001b[0m    \u001b[0;34m**\u001b[0m\u001b[0mkwargs\u001b[0m\u001b[0;34m,\u001b[0m\u001b[0;34m\u001b[0m\n",
       "\u001b[0;34m\u001b[0m\u001b[0;34m)\u001b[0m \u001b[0;34m->\u001b[0m \u001b[0;34m'tuple[np.ndarray | list[np.ndarray], np.ndarray, BarContainer | Polygon | list[BarContainer | Polygon]]'\u001b[0m\u001b[0;34m\u001b[0m\u001b[0;34m\u001b[0m\u001b[0m\n",
       "\u001b[0;31mDocstring:\u001b[0m\n",
       "Compute and plot a histogram.\n",
       "\n",
       "This method uses `numpy.histogram` to bin the data in *x* and count the\n",
       "number of values in each bin, then draws the distribution either as a\n",
       "`.BarContainer` or `.Polygon`. The *bins*, *range*, *density*, and\n",
       "*weights* parameters are forwarded to `numpy.histogram`.\n",
       "\n",
       "If the data has already been binned and counted, use `~.bar` or\n",
       "`~.stairs` to plot the distribution::\n",
       "\n",
       "    counts, bins = np.histogram(x)\n",
       "    plt.stairs(counts, bins)\n",
       "\n",
       "Alternatively, plot pre-computed bins and counts using ``hist()`` by\n",
       "treating each bin as a single point with a weight equal to its count::\n",
       "\n",
       "    plt.hist(bins[:-1], bins, weights=counts)\n",
       "\n",
       "The data input *x* can be a singular array, a list of datasets of\n",
       "potentially different lengths ([*x0*, *x1*, ...]), or a 2D ndarray in\n",
       "which each column is a dataset. Note that the ndarray form is\n",
       "transposed relative to the list form. If the input is an array, then\n",
       "the return value is a tuple (*n*, *bins*, *patches*); if the input is a\n",
       "sequence of arrays, then the return value is a tuple\n",
       "([*n0*, *n1*, ...], *bins*, [*patches0*, *patches1*, ...]).\n",
       "\n",
       "Masked arrays are not supported.\n",
       "\n",
       "Parameters\n",
       "----------\n",
       "x : (n,) array or sequence of (n,) arrays\n",
       "    Input values, this takes either a single array or a sequence of\n",
       "    arrays which are not required to be of the same length.\n",
       "\n",
       "bins : int or sequence or str, default: :rc:`hist.bins`\n",
       "    If *bins* is an integer, it defines the number of equal-width bins\n",
       "    in the range.\n",
       "\n",
       "    If *bins* is a sequence, it defines the bin edges, including the\n",
       "    left edge of the first bin and the right edge of the last bin;\n",
       "    in this case, bins may be unequally spaced.  All but the last\n",
       "    (righthand-most) bin is half-open.  In other words, if *bins* is::\n",
       "\n",
       "        [1, 2, 3, 4]\n",
       "\n",
       "    then the first bin is ``[1, 2)`` (including 1, but excluding 2) and\n",
       "    the second ``[2, 3)``.  The last bin, however, is ``[3, 4]``, which\n",
       "    *includes* 4.\n",
       "\n",
       "    If *bins* is a string, it is one of the binning strategies\n",
       "    supported by `numpy.histogram_bin_edges`: 'auto', 'fd', 'doane',\n",
       "    'scott', 'stone', 'rice', 'sturges', or 'sqrt'.\n",
       "\n",
       "range : tuple or None, default: None\n",
       "    The lower and upper range of the bins. Lower and upper outliers\n",
       "    are ignored. If not provided, *range* is ``(x.min(), x.max())``.\n",
       "    Range has no effect if *bins* is a sequence.\n",
       "\n",
       "    If *bins* is a sequence or *range* is specified, autoscaling\n",
       "    is based on the specified bin range instead of the\n",
       "    range of x.\n",
       "\n",
       "density : bool, default: False\n",
       "    If ``True``, draw and return a probability density: each bin\n",
       "    will display the bin's raw count divided by the total number of\n",
       "    counts *and the bin width*\n",
       "    (``density = counts / (sum(counts) * np.diff(bins))``),\n",
       "    so that the area under the histogram integrates to 1\n",
       "    (``np.sum(density * np.diff(bins)) == 1``).\n",
       "\n",
       "    If *stacked* is also ``True``, the sum of the histograms is\n",
       "    normalized to 1.\n",
       "\n",
       "weights : (n,) array-like or None, default: None\n",
       "    An array of weights, of the same shape as *x*.  Each value in\n",
       "    *x* only contributes its associated weight towards the bin count\n",
       "    (instead of 1).  If *density* is ``True``, the weights are\n",
       "    normalized, so that the integral of the density over the range\n",
       "    remains 1.\n",
       "\n",
       "cumulative : bool or -1, default: False\n",
       "    If ``True``, then a histogram is computed where each bin gives the\n",
       "    counts in that bin plus all bins for smaller values. The last bin\n",
       "    gives the total number of datapoints.\n",
       "\n",
       "    If *density* is also ``True`` then the histogram is normalized such\n",
       "    that the last bin equals 1.\n",
       "\n",
       "    If *cumulative* is a number less than 0 (e.g., -1), the direction\n",
       "    of accumulation is reversed.  In this case, if *density* is also\n",
       "    ``True``, then the histogram is normalized such that the first bin\n",
       "    equals 1.\n",
       "\n",
       "bottom : array-like, scalar, or None, default: None\n",
       "    Location of the bottom of each bin, i.e. bins are drawn from\n",
       "    ``bottom`` to ``bottom + hist(x, bins)`` If a scalar, the bottom\n",
       "    of each bin is shifted by the same amount. If an array, each bin\n",
       "    is shifted independently and the length of bottom must match the\n",
       "    number of bins. If None, defaults to 0.\n",
       "\n",
       "histtype : {'bar', 'barstacked', 'step', 'stepfilled'}, default: 'bar'\n",
       "    The type of histogram to draw.\n",
       "\n",
       "    - 'bar' is a traditional bar-type histogram.  If multiple data\n",
       "      are given the bars are arranged side by side.\n",
       "    - 'barstacked' is a bar-type histogram where multiple\n",
       "      data are stacked on top of each other.\n",
       "    - 'step' generates a lineplot that is by default unfilled.\n",
       "    - 'stepfilled' generates a lineplot that is by default filled.\n",
       "\n",
       "align : {'left', 'mid', 'right'}, default: 'mid'\n",
       "    The horizontal alignment of the histogram bars.\n",
       "\n",
       "    - 'left': bars are centered on the left bin edges.\n",
       "    - 'mid': bars are centered between the bin edges.\n",
       "    - 'right': bars are centered on the right bin edges.\n",
       "\n",
       "orientation : {'vertical', 'horizontal'}, default: 'vertical'\n",
       "    If 'horizontal', `~.Axes.barh` will be used for bar-type histograms\n",
       "    and the *bottom* kwarg will be the left edges.\n",
       "\n",
       "rwidth : float or None, default: None\n",
       "    The relative width of the bars as a fraction of the bin width.  If\n",
       "    ``None``, automatically compute the width.\n",
       "\n",
       "    Ignored if *histtype* is 'step' or 'stepfilled'.\n",
       "\n",
       "log : bool, default: False\n",
       "    If ``True``, the histogram axis will be set to a log scale.\n",
       "\n",
       "color : color or array-like of colors or None, default: None\n",
       "    Color or sequence of colors, one per dataset.  Default (``None``)\n",
       "    uses the standard line color sequence.\n",
       "\n",
       "label : str or None, default: None\n",
       "    String, or sequence of strings to match multiple datasets.  Bar\n",
       "    charts yield multiple patches per dataset, but only the first gets\n",
       "    the label, so that `~.Axes.legend` will work as expected.\n",
       "\n",
       "stacked : bool, default: False\n",
       "    If ``True``, multiple data are stacked on top of each other If\n",
       "    ``False`` multiple data are arranged side by side if histtype is\n",
       "    'bar' or on top of each other if histtype is 'step'\n",
       "\n",
       "Returns\n",
       "-------\n",
       "n : array or list of arrays\n",
       "    The values of the histogram bins. See *density* and *weights* for a\n",
       "    description of the possible semantics.  If input *x* is an array,\n",
       "    then this is an array of length *nbins*. If input is a sequence of\n",
       "    arrays ``[data1, data2, ...]``, then this is a list of arrays with\n",
       "    the values of the histograms for each of the arrays in the same\n",
       "    order.  The dtype of the array *n* (or of its element arrays) will\n",
       "    always be float even if no weighting or normalization is used.\n",
       "\n",
       "bins : array\n",
       "    The edges of the bins. Length nbins + 1 (nbins left edges and right\n",
       "    edge of last bin).  Always a single array even when multiple data\n",
       "    sets are passed in.\n",
       "\n",
       "patches : `.BarContainer` or list of a single `.Polygon` or list of such objects\n",
       "    Container of individual artists used to create the histogram\n",
       "    or list of such containers if there are multiple input datasets.\n",
       "\n",
       "Other Parameters\n",
       "----------------\n",
       "data : indexable object, optional\n",
       "    If given, the following parameters also accept a string ``s``, which is\n",
       "    interpreted as ``data[s]`` (unless this raises an exception):\n",
       "\n",
       "    *x*, *weights*\n",
       "\n",
       "**kwargs\n",
       "    `~matplotlib.patches.Patch` properties\n",
       "\n",
       "See Also\n",
       "--------\n",
       "hist2d : 2D histogram with rectangular bins\n",
       "hexbin : 2D histogram with hexagonal bins\n",
       "stairs : Plot a pre-computed histogram\n",
       "bar : Plot a pre-computed histogram\n",
       "\n",
       "Notes\n",
       "-----\n",
       "For large numbers of bins (>1000), plotting can be significantly\n",
       "accelerated by using `~.Axes.stairs` to plot a pre-computed histogram\n",
       "(``plt.stairs(*np.histogram(data))``), or by setting *histtype* to\n",
       "'step' or 'stepfilled' rather than 'bar' or 'barstacked'.\n",
       "\u001b[0;31mFile:\u001b[0m      ~/anaconda3/envs/rootTF/lib/python3.9/site-packages/matplotlib/pyplot.py\n",
       "\u001b[0;31mType:\u001b[0m      function"
      ]
     },
     "metadata": {},
     "output_type": "display_data"
    }
   ],
   "source": [
    "plt.hist?"
   ]
  },
  {
   "cell_type": "code",
   "execution_count": 141,
   "id": "26fa136d-622c-45cf-a53c-6dac4bb16166",
   "metadata": {},
   "outputs": [
    {
     "data": {
      "text/plain": [
       "(array([0.0000e+00, 0.0000e+00, 1.6588e+04, 2.7330e+03, 6.4000e+01,\n",
       "        4.3590e+03, 1.4895e+04, 1.8406e+04, 1.2652e+04, 7.0110e+03,\n",
       "        5.0360e+03, 4.5220e+03, 3.7080e+03, 2.5030e+03, 1.7840e+03,\n",
       "        1.3830e+03, 1.1200e+03, 8.0100e+02, 5.8600e+02, 4.7400e+02,\n",
       "        3.2700e+02, 2.7100e+02, 1.9600e+02, 1.3100e+02, 1.0100e+02,\n",
       "        7.9000e+01, 6.3000e+01, 5.0000e+01, 3.4000e+01, 3.0000e+01,\n",
       "        2.2000e+01, 1.3000e+01, 1.1000e+01, 1.0000e+01, 1.2000e+01,\n",
       "        5.0000e+00, 4.0000e+00, 3.0000e+00, 2.0000e+00, 5.0000e+00]),\n",
       " array([ 0.,  1.,  2.,  3.,  4.,  5.,  6.,  7.,  8.,  9., 10., 11., 12.,\n",
       "        13., 14., 15., 16., 17., 18., 19., 20., 21., 22., 23., 24., 25.,\n",
       "        26., 27., 28., 29., 30., 31., 32., 33., 34., 35., 36., 37., 38.,\n",
       "        39., 40.]),\n",
       " <BarContainer object of 40 artists>)"
      ]
     },
     "execution_count": 141,
     "metadata": {},
     "output_type": "execute_result"
    },
    {
     "data": {
      "image/png": "[encoded data removed]",
      "text/plain": [
       "<Figure size 640x480 with 1 Axes>"
      ]
     },
     "metadata": {},
     "output_type": "display_data"
    }
   ],
   "source": [
    "mybins = np.linspace(0, 40, 41)\n",
    "plt.hist(games, bins = mybins, ec = 'black')"
   ]
  },
  {
   "cell_type": "code",
   "execution_count": null,
   "id": "fd3047f3-b3d4-4a29-9663-dde203bba613",
   "metadata": {},
   "outputs": [],
   "source": []
  }
 ],
 "metadata": {
  "kernelspec": {
   "display_name": "Python 3 (ipykernel)",
   "language": "python",
   "name": "python3"
  },
  "language_info": {
   "codemirror_mode": {
    "name": "ipython",
    "version": 3
   },
   "file_extension": ".py",
   "mimetype": "text/x-python",
   "name": "python",
   "nbconvert_exporter": "python",
   "pygments_lexer": "ipython3",
   "version": "3.9.12"
  }
 },
 "nbformat": 4,
 "nbformat_minor": 5
}

{
 "cells": [
  {
   "cell_type": "code",
   "execution_count": 1,
   "id": "81e8dea8",
   "metadata": {},
   "outputs": [],
   "source": [
    "import numpy as np\n",
    "import matplotlib.pyplot as plt"
   ]
  },
  {
   "cell_type": "code",
   "execution_count": 7,
   "id": "85b5b5be",
   "metadata": {},
   "outputs": [],
   "source": [
    "us = [0.5, 0.9, 0.4]\n",
    "def f(x): return x*x\n",
    "Σf  = 0\n",
    "Σf2 = 0"
   ]
  },
  {
   "cell_type": "code",
   "execution_count": 8,
   "id": "f06d566b",
   "metadata": {},
   "outputs": [
    {
     "name": "stdout",
     "output_type": "stream",
     "text": [
      "I = 536.667 +/- 233.833\n"
     ]
    }
   ],
   "source": [
    "for u in us:\n",
    "    x = (11-1)*u + 1\n",
    "    \n",
    "    Σf  += f(x)\n",
    "    Σf2 += f(x)**2\n",
    "\n",
    "N   = len(us)\n",
    "μf  = Σf/N\n",
    "σf2 = Σf2/N - μf**2\n",
    "sf2 = σf2*(N/(N-1))\n",
    "sf  = sf2**0.5 \n",
    "V   = 10\n",
    "I   = V*μf\n",
    "δI  = V*sf/N**0.5\n",
    "print('I = %2.3f +/- %2.3f'%(I, δI))"
   ]
  }
 ],
 "metadata": {
  "kernelspec": {
   "display_name": "Python 3 (ipykernel)",
   "language": "python",
   "name": "python3"
  },
  "language_info": {
   "codemirror_mode": {
    "name": "ipython",
    "version": 3
   },
   "file_extension": ".py",
   "mimetype": "text/x-python",
   "name": "python",
   "nbconvert_exporter": "python",
   "pygments_lexer": "ipython3",
   "version": "3.9.12"
  }
 },
 "nbformat": 4,
 "nbformat_minor": 5
}

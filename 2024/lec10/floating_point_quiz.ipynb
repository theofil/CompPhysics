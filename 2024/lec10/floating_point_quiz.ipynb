{
 "cells": [
  {
   "cell_type": "code",
   "execution_count": 2,
   "id": "e6dda855-2316-418b-b4be-7c03d87826ee",
   "metadata": {},
   "outputs": [
    {
     "name": "stdout",
     "output_type": "stream",
     "text": [
      "it's not\n"
     ]
    }
   ],
   "source": [
    "if (0.1 + 0.2 - 0.3) == 0:\n",
    "    print(\"yes it is\")\n",
    "else:\n",
    "    print(\"it's not\")"
   ]
  },
  {
   "cell_type": "code",
   "execution_count": 3,
   "id": "f8a254c8-3e75-4cae-a910-c8b829f4a26e",
   "metadata": {},
   "outputs": [
    {
     "name": "stdout",
     "output_type": "stream",
     "text": [
      "yes it is\n"
     ]
    }
   ],
   "source": [
    "if (0.5 + 0.5 - 1) == 0:\n",
    "    print(\"yes it is\")\n",
    "else:\n",
    "    print(\"it's not\")"
   ]
  },
  {
   "cell_type": "code",
   "execution_count": null,
   "id": "de54a2be-bcf0-44b5-a79b-5ef2bf263f06",
   "metadata": {},
   "outputs": [],
   "source": []
  }
 ],
 "metadata": {
  "kernelspec": {
   "display_name": "Python 3 (ipykernel)",
   "language": "python",
   "name": "python3"
  },
  "language_info": {
   "codemirror_mode": {
    "name": "ipython",
    "version": 3
   },
   "file_extension": ".py",
   "mimetype": "text/x-python",
   "name": "python",
   "nbconvert_exporter": "python",
   "pygments_lexer": "ipython3",
   "version": "3.9.12"
  }
 },
 "nbformat": 4,
 "nbformat_minor": 5
}

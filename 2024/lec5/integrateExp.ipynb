{
 "cells": [
  {
   "cell_type": "code",
   "execution_count": 2,
   "id": "b5cfbb5d-e9f1-4f61-a133-caa3ebe2c461",
   "metadata": {},
   "outputs": [],
   "source": [
    "import numpy as np\n",
    "import matplotlib.pyplot as plt"
   ]
  },
  {
   "cell_type": "code",
   "execution_count": 46,
   "id": "c5a826e2-3a25-4221-9c84-b5320c97963b",
   "metadata": {},
   "outputs": [],
   "source": [
    "def U(): return np.random.rand()\n",
    "def f(x): return np.exp(x)"
   ]
  },
  {
   "cell_type": "code",
   "execution_count": 47,
   "id": "238304d4-e776-46b9-a978-931e70993665",
   "metadata": {},
   "outputs": [
    {
     "name": "stdout",
     "output_type": "stream",
     "text": [
      "I =  22266.538688843902  δI =  442.6013774641584\n",
      "I = 22266.54 +/- 442.60\n"
     ]
    }
   ],
   "source": [
    "N   = 10000\n",
    "Σf  = 0\n",
    "Σf2 = 0\n",
    "\n",
    "a, b = 0, 10\n",
    "for i in range(N):\n",
    "    x = (b-a)*U() + a\n",
    "    Σf  = Σf + f(x)       # fx = f(x)\n",
    "    Σf2 = Σf2 + f(x)*f(x) # fx*fx anti gia f(x)*f(x)\n",
    "\n",
    "    # print(f(x), Σf)\n",
    "\n",
    "μ = Σf/N\n",
    "V = b-a\n",
    "\n",
    "I = V*μ\n",
    "σf2 = Σf2/N - μ**2\n",
    "sf2 = σf2*(N/(N-1)) # Bessel's correction\n",
    "sf = sf2**0.5\n",
    "δI = V*sf/N**0.5\n",
    "print('I = ', I, ' δI = ', δI)\n",
    "print('I = %.2f +/- %.2f'% (I,δI))"
   ]
  },
  {
   "cell_type": "code",
   "execution_count": 54,
   "id": "e58c8ef4-b02a-4394-a5c5-9b08490be7e2",
   "metadata": {},
   "outputs": [],
   "source": [
    "def integrateExp():\n",
    "    N   = 10000\n",
    "    Σf  = 0\n",
    "    \n",
    "    a, b = 0, 10\n",
    "    for i in range(N):\n",
    "        x = (b-a)*U() + a\n",
    "        Σf  = Σf + f(x)       # fx = f(x)\n",
    "        \n",
    "    μ = Σf/N\n",
    "    V = b-a\n",
    "    \n",
    "    I = V*μ\n",
    "    return I\n"
   ]
  },
  {
   "cell_type": "code",
   "execution_count": 65,
   "id": "63c13819-578d-4547-b631-abcbe588a7a5",
   "metadata": {},
   "outputs": [],
   "source": [
    "integrals = [integrateExp() for i in range(5000)]"
   ]
  },
  {
   "cell_type": "code",
   "execution_count": 66,
   "id": "e50c9674-d1ca-40e5-9ec4-c61a72c01c66",
   "metadata": {},
   "outputs": [
    {
     "data": {
      "text/plain": [
       "(array([   8.,   45.,  281.,  884., 1319., 1374.,  749.,  276.,   53.,\n",
       "          11.]),\n",
       " array([20406.86152527, 20732.56394325, 21058.26636123, 21383.96877922,\n",
       "        21709.6711972 , 22035.37361518, 22361.07603316, 22686.77845114,\n",
       "        23012.48086913, 23338.18328711, 23663.88570509]),\n",
       " <BarContainer object of 10 artists>)"
      ]
     },
     "execution_count": 66,
     "metadata": {},
     "output_type": "execute_result"
    },
    {
     "data": {
      "image/png": "[encoded data removed]",
      "text/plain": [
       "<Figure size 640x480 with 1 Axes>"
      ]
     },
     "metadata": {},
     "output_type": "display_data"
    }
   ],
   "source": [
    "plt.hist(integrals, ec = 'black')"
   ]
  },
  {
   "cell_type": "code",
   "execution_count": null,
   "id": "b3a0d421-a055-4a77-8d52-bd30b227d349",
   "metadata": {},
   "outputs": [],
   "source": []
  }
 ],
 "metadata": {
  "kernelspec": {
   "display_name": "Python 3 (ipykernel)",
   "language": "python",
   "name": "python3"
  },
  "language_info": {
   "codemirror_mode": {
    "name": "ipython",
    "version": 3
   },
   "file_extension": ".py",
   "mimetype": "text/x-python",
   "name": "python",
   "nbconvert_exporter": "python",
   "pygments_lexer": "ipython3",
   "version": "3.9.12"
  }
 },
 "nbformat": 4,
 "nbformat_minor": 5
}

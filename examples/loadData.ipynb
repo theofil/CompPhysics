{
 "cells": [
  {
   "cell_type": "code",
   "execution_count": 1,
   "id": "d70bbfb7-ad79-4759-983c-2f2df0239f9e",
   "metadata": {},
   "outputs": [],
   "source": [
    "# how to read data from the web and load them into an array using numpy\n",
    "import numpy as np\n",
    "\n",
    "datalink = 'https://raw.githubusercontent.com/theofil/CompPhysics/refs/heads/master/problems/2024_2025/dice_rolls.txt'\n",
    "data = np.loadtxt(datalink, delimiter = ',')"
   ]
  },
  {
   "cell_type": "code",
   "execution_count": 4,
   "id": "be04a2c7-cd94-4ef7-9439-70c2aac9edf1",
   "metadata": {},
   "outputs": [
    {
     "name": "stdout",
     "output_type": "stream",
     "text": [
      "N =  600\n",
      "first 5 elements of the data list [5. 5. 5. 1. 2.]\n"
     ]
    }
   ],
   "source": [
    "print('N = ', len(data))\n",
    "print('first 5 elements of the data list', data[0:5])"
   ]
  },
  {
   "cell_type": "code",
   "execution_count": null,
   "id": "989c8a97-41e8-49ea-b56d-2672450a4634",
   "metadata": {},
   "outputs": [],
   "source": []
  }
 ],
 "metadata": {
  "kernelspec": {
   "display_name": "Python 3 (ipykernel)",
   "language": "python",
   "name": "python3"
  },
  "language_info": {
   "codemirror_mode": {
    "name": "ipython",
    "version": 3
   },
   "file_extension": ".py",
   "mimetype": "text/x-python",
   "name": "python",
   "nbconvert_exporter": "python",
   "pygments_lexer": "ipython3",
   "version": "3.9.12"
  }
 },
 "nbformat": 4,
 "nbformat_minor": 5
}

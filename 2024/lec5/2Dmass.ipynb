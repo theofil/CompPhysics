{
 "cells": [
  {
   "cell_type": "code",
   "execution_count": 2,
   "id": "02d1e1d8-64fc-4c62-a0f9-e6f92785cce7",
   "metadata": {},
   "outputs": [],
   "source": [
    "import numpy as np\n",
    "import matplotlib.pyplot as plt\n",
    "def U(): return np.random.rand()\n",
    "def f(x,y): return (20/13.)*(x+y)"
   ]
  },
  {
   "cell_type": "code",
   "execution_count": 15,
   "id": "35f3e87a-0455-42c9-9d45-c137423dc3fc",
   "metadata": {},
   "outputs": [
    {
     "name": "stdout",
     "output_type": "stream",
     "text": [
      "I = 0.98 +/- 0.06\n"
     ]
    }
   ],
   "source": [
    "N   = 100\n",
    "Σf  = 0\n",
    "Σf2 = 0\n",
    "m   = 0\n",
    "\n",
    "a, b = 0, 1\n",
    "for i in range(N):\n",
    "    x = (b-a)*U() + a\n",
    "    y = (b-a)*U() + a\n",
    "    if y >= x**2:\n",
    "        m += 1\n",
    "        Σf  = Σf + f(x,y)       # fx = f(x)\n",
    "        Σf2 = Σf2 + f(x,y)*f(x,y) # fx*fx anti gia f(x)*f(x)\n",
    "    # print(f(x), Σf)\n",
    "\n",
    "μ = Σf/m\n",
    "V = 2/3.\n",
    "\n",
    "I = V*μ\n",
    "σf2 = Σf2/m - μ**2\n",
    "sf2 = σf2*(m/(m-1)) # Bessel's correction\n",
    "sf = sf2**0.5\n",
    "δI = V*sf/m**0.5\n",
    "print('I = %.2f +/- %.2f'% (I,δI))"
   ]
  },
  {
   "cell_type": "code",
   "execution_count": null,
   "id": "8da984e7-fbe1-45b1-ab80-889f94d1e0d4",
   "metadata": {},
   "outputs": [],
   "source": []
  },
  {
   "cell_type": "code",
   "execution_count": null,
   "id": "887587ab-9ff8-4f8c-8c87-0f72016e6dc7",
   "metadata": {},
   "outputs": [],
   "source": []
  }
 ],
 "metadata": {
  "kernelspec": {
   "display_name": "Python 3 (ipykernel)",
   "language": "python",
   "name": "python3"
  },
  "language_info": {
   "codemirror_mode": {
    "name": "ipython",
    "version": 3
   },
   "file_extension": ".py",
   "mimetype": "text/x-python",
   "name": "python",
   "nbconvert_exporter": "python",
   "pygments_lexer": "ipython3",
   "version": "3.9.12"
  }
 },
 "nbformat": 4,
 "nbformat_minor": 5
}

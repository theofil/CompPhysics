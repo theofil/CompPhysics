{
 "cells": [
  {
   "cell_type": "code",
   "execution_count": 29,
   "id": "81dad9a5-00ca-4de6-a20e-bf8cf4adaaa2",
   "metadata": {},
   "outputs": [],
   "source": [
    "import numpy as np\n",
    "import matplotlib.pyplot as plt"
   ]
  },
  {
   "cell_type": "code",
   "execution_count": 49,
   "id": "422b706b-d859-4e4e-b554-c948c6f060c2",
   "metadata": {},
   "outputs": [
    {
     "name": "stdout",
     "output_type": "stream",
     "text": [
      "I = 1.018 +/- 0.046 \n"
     ]
    }
   ],
   "source": [
    "def U(): return np.random.rand()\n",
    "def f(x,y): return (20/13.)*(x+y)\n",
    "\n",
    "N = 1000\n",
    "n = 0\n",
    "\n",
    "fmax = f(1,1)\n",
    "\n",
    "for i in range(N):\n",
    "    x = U()\n",
    "    y = U()\n",
    "    w = fmax*U()\n",
    "    if y > x**2 and w < f(x,y):\n",
    "        n += 1\n",
    "\n",
    "p = n/N\n",
    "V = fmax\n",
    "\n",
    "I  = V*p\n",
    "δI = V*(p - p**2)**0.5/N**0.5 \n",
    "# print(I, δI)\n",
    "print('I = %2.3f +/- %2.3f '%(I, δI))"
   ]
  },
  {
   "cell_type": "code",
   "execution_count": 50,
   "id": "88e465aa-3426-4c66-9281-72425a2c8719",
   "metadata": {},
   "outputs": [],
   "source": [
    "def integrate():\n",
    "    N = 1000\n",
    "    n = 0\n",
    "    \n",
    "    fmax = f(1,1)\n",
    "    \n",
    "    for i in range(N):\n",
    "        x = U()\n",
    "        y = U()\n",
    "        w = fmax*U()\n",
    "        if y > x**2 and w < f(x,y):\n",
    "            n += 1\n",
    "    \n",
    "    p = n/N\n",
    "    V = fmax\n",
    "    \n",
    "    I  = V*p\n",
    "    return I\n",
    "    # δI = V*(p - p**2)**0.5/N**0.5 \n",
    "    # print(I, δI)\n",
    "    # print('I = %2.3f +/- %2.3f '%(I, δI))"
   ]
  },
  {
   "cell_type": "code",
   "execution_count": 68,
   "id": "24f01b54-cbd1-4d8a-8a5e-8bca6f1d22ce",
   "metadata": {},
   "outputs": [
    {
     "name": "stdout",
     "output_type": "stream",
     "text": [
      "I = 1.001 +/- 0.046 \n"
     ]
    },
    {
     "data": {
      "text/plain": [
       "(array([  6.,  20.,  38.,  89., 130., 113.,  64.,  30.,   7.,   3.]),\n",
       " array([0.86153846, 0.89076923, 0.92      , 0.94923077, 0.97846154,\n",
       "        1.00769231, 1.03692308, 1.06615385, 1.09538462, 1.12461538,\n",
       "        1.15384615]),\n",
       " <BarContainer object of 10 artists>)"
      ]
     },
     "execution_count": 68,
     "metadata": {},
     "output_type": "execute_result"
    },
    {
     "data": {
      "image/png": "[encoded data removed]",
      "text/plain": [
       "<Figure size 640x480 with 1 Axes>"
      ]
     },
     "metadata": {},
     "output_type": "display_data"
    }
   ],
   "source": [
    "integrals = np.array([integrate() for i in range(500)]) \n",
    "mean_integral = integrals.mean()\n",
    "std_integral = integrals.std()\n",
    "print('I = %2.3f +/- %2.3f '%(mean_integral, std_integral))\n",
    "plt.hist(integrals, ec='black')"
   ]
  },
  {
   "cell_type": "code",
   "execution_count": null,
   "id": "a291e676-9b38-489d-a879-a580ffc5f821",
   "metadata": {},
   "outputs": [],
   "source": []
  }
 ],
 "metadata": {
  "kernelspec": {
   "display_name": "Python 3 (ipykernel)",
   "language": "python",
   "name": "python3"
  },
  "language_info": {
   "codemirror_mode": {
    "name": "ipython",
    "version": 3
   },
   "file_extension": ".py",
   "mimetype": "text/x-python",
   "name": "python",
   "nbconvert_exporter": "python",
   "pygments_lexer": "ipython3",
   "version": "3.9.12"
  }
 },
 "nbformat": 4,
 "nbformat_minor": 5
}

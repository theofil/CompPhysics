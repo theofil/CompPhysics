{
 "cells": [
  {
   "cell_type": "code",
   "execution_count": 2,
   "id": "4b090a4e",
   "metadata": {},
   "outputs": [],
   "source": [
    "import numpy as np\n",
    "import matplotlib.pyplot as plt"
   ]
  },
  {
   "cell_type": "code",
   "execution_count": 18,
   "id": "0fb0753e",
   "metadata": {},
   "outputs": [],
   "source": [
    "U = np.random.rand\n",
    "f = np.exp\n",
    "a, b = 0, 10"
   ]
  },
  {
   "cell_type": "code",
   "execution_count": 38,
   "id": "ffde3aba",
   "metadata": {},
   "outputs": [
    {
     "name": "stdout",
     "output_type": "stream",
     "text": [
      "I = 22438.211, δI = 446.536, δI/I = 0.020\n"
     ]
    }
   ],
   "source": [
    "N   = 10**4\n",
    "V   = b - a\n",
    "Σf  = 0\n",
    "Σf2 = 0\n",
    "for i in range(N):\n",
    "    x    = U()*(b-a) + a\n",
    "    Σf  += f(x)\n",
    "    Σf2 += f(x)*f(x)\n",
    "\n",
    "#     w    = f(x)\n",
    "#     Σf  += w\n",
    "#     Σf2 += w*w\n",
    "    \n",
    "μf  = Σf/N\n",
    "σf2 = Σf2/N - μf**2\n",
    "sf2 = σf2*N/(N-1)\n",
    "sf  = sf2**0.5\n",
    "\n",
    "I  = V*μf\n",
    "δI = V*sf/N**0.5\n",
    "\n",
    "# print(I, δI)\n",
    "print(\"I = %2.3f, δI = %2.3f, δI/I = %2.3f\"%(I, δI, δI/I))    "
   ]
  },
  {
   "cell_type": "code",
   "execution_count": 46,
   "id": "6fd42a36",
   "metadata": {},
   "outputs": [
    {
     "name": "stdout",
     "output_type": "stream",
     "text": [
      "exp_I = 22025.466, exp_δI = 440.534, exp_δI/I = 0.020\n"
     ]
    }
   ],
   "source": [
    "exp_I = f(b) - 1\n",
    "exp_σf = ((1/20)*(f(20) - f(0)) - (0.1*(f(b) - 1))**2)**0.5\n",
    "exp_δI = V*exp_σf/N**0.5\n",
    "print(\"exp_I = %2.3f, exp_δI = %2.3f, exp_δI/I = %2.3f\"%(exp_I, exp_δI, exp_δI/exp_I))    "
   ]
  },
  {
   "cell_type": "code",
   "execution_count": 45,
   "id": "44232178",
   "metadata": {},
   "outputs": [
    {
     "data": {
      "text/plain": [
       "4405.343151867685"
      ]
     },
     "execution_count": 45,
     "metadata": {},
     "output_type": "execute_result"
    }
   ],
   "source": [
    "exp_σf = ((1/20)*(f(20) - f(0)) - (0.1*(f(b) - 1))**2)**0.5"
   ]
  },
  {
   "cell_type": "code",
   "execution_count": 50,
   "id": "982a5d4a",
   "metadata": {},
   "outputs": [],
   "source": [
    "def integrate(f, a, b, N = 10**4):\n",
    "    V   = b - a\n",
    "    Σf  = 0\n",
    "    Σf2 = 0\n",
    "    for i in range(N):\n",
    "        x    = U()*(b-a) + a\n",
    "        Σf  += f(x)\n",
    "        Σf2 += f(x)*f(x)\n",
    "\n",
    "    #     w    = f(x)\n",
    "    #     Σf  += w\n",
    "    #     Σf2 += w*w\n",
    "\n",
    "    μf  = Σf/N\n",
    "    σf2 = Σf2/N - μf**2\n",
    "    sf2 = σf2*N/(N-1)\n",
    "    sf  = sf2**0.5\n",
    "\n",
    "    I  = V*μf\n",
    "    δI = V*sf/N**0.5\n",
    "\n",
    "    # print(I, δI)\n",
    "    print(\"I = %2.3f, δI = %2.3f, δI/I = %2.3f\"%(I, δI, δI/I))    "
   ]
  },
  {
   "cell_type": "code",
   "execution_count": 55,
   "id": "f3da7fae",
   "metadata": {},
   "outputs": [
    {
     "name": "stdout",
     "output_type": "stream",
     "text": [
      "I = 19.986, δI = 0.148, δI/I = 0.007\n"
     ]
    }
   ],
   "source": [
    "def g(x): return x**2 - np.sin(x)\n",
    "\n",
    "integrate(g, 1, 4, N =10**4)"
   ]
  },
  {
   "cell_type": "code",
   "execution_count": 57,
   "id": "5aca0ad3",
   "metadata": {},
   "outputs": [],
   "source": [
    "# brute force approach of the uncertainty estimation *** \n",
    "\n",
    "def integrate(f, a, b, N = 10**4):\n",
    "    V   = b - a\n",
    "    Σf  = 0\n",
    "    for i in range(N):\n",
    "        x    = U()*(b-a) + a\n",
    "        Σf  += f(x)\n",
    "\n",
    "    μf  = Σf/N\n",
    "\n",
    "    I  = V*μf\n",
    "    return I\n"
   ]
  },
  {
   "cell_type": "code",
   "execution_count": 64,
   "id": "3975b314",
   "metadata": {},
   "outputs": [
    {
     "data": {
      "text/plain": [
       "22036.378773682947"
      ]
     },
     "execution_count": 64,
     "metadata": {},
     "output_type": "execute_result"
    }
   ],
   "source": [
    "integrate(np.exp, 0, 10, N=10**4)"
   ]
  },
  {
   "cell_type": "code",
   "execution_count": 76,
   "id": "c74a7d95",
   "metadata": {},
   "outputs": [
    {
     "name": "stdout",
     "output_type": "stream",
     "text": [
      "22022.839555866503 435.53273539573127\n"
     ]
    }
   ],
   "source": [
    "integrals = [integrate(np.exp, 0, 10, N=10**4) for i in range(4*800)]\n",
    "integrals = np.array(integrals)\n",
    "print(integrals.mean(), integrals.std())"
   ]
  },
  {
   "cell_type": "code",
   "execution_count": 77,
   "id": "48c34207",
   "metadata": {},
   "outputs": [
    {
     "data": {
      "text/plain": [
       "(array([  2.,   0.,   0.,   4.,   1.,   2.,   3.,  10.,  20.,  12.,  33.,\n",
       "         47.,  56.,  68.,  77., 101., 137., 123., 129., 166., 172., 197.,\n",
       "        173., 221., 184., 202., 188., 158., 122., 123., 108.,  79.,  72.,\n",
       "         69.,  37.,  34.,  21.,  15.,  11.,  11.,   4.,   3.,   2.,   1.,\n",
       "          0.,   0.,   0.,   0.,   1.,   1.]),\n",
       " array([20456.48045902, 20524.03815504, 20591.59585106, 20659.15354708,\n",
       "        20726.7112431 , 20794.26893912, 20861.82663514, 20929.38433116,\n",
       "        20996.94202719, 21064.49972321, 21132.05741923, 21199.61511525,\n",
       "        21267.17281127, 21334.73050729, 21402.28820331, 21469.84589933,\n",
       "        21537.40359536, 21604.96129138, 21672.5189874 , 21740.07668342,\n",
       "        21807.63437944, 21875.19207546, 21942.74977148, 22010.3074675 ,\n",
       "        22077.86516352, 22145.42285955, 22212.98055557, 22280.53825159,\n",
       "        22348.09594761, 22415.65364363, 22483.21133965, 22550.76903567,\n",
       "        22618.32673169, 22685.88442772, 22753.44212374, 22820.99981976,\n",
       "        22888.55751578, 22956.1152118 , 23023.67290782, 23091.23060384,\n",
       "        23158.78829986, 23226.34599589, 23293.90369191, 23361.46138793,\n",
       "        23429.01908395, 23496.57677997, 23564.13447599, 23631.69217201,\n",
       "        23699.24986803, 23766.80756405, 23834.36526008]),\n",
       " <BarContainer object of 50 artists>)"
      ]
     },
     "execution_count": 77,
     "metadata": {},
     "output_type": "execute_result"
    },
    {
     "data": {
      "image/png": "[encoded data removed]",
      "text/plain": [
       "<Figure size 640x480 with 1 Axes>"
      ]
     },
     "metadata": {},
     "output_type": "display_data"
    }
   ],
   "source": [
    "plt.hist(integrals, bins=50, ec = 'black')"
   ]
  },
  {
   "cell_type": "code",
   "execution_count": null,
   "id": "ff02483d",
   "metadata": {},
   "outputs": [],
   "source": []
  }
 ],
 "metadata": {
  "kernelspec": {
   "display_name": "Python 3 (ipykernel)",
   "language": "python",
   "name": "python3"
  },
  "language_info": {
   "codemirror_mode": {
    "name": "ipython",
    "version": 3
   },
   "file_extension": ".py",
   "mimetype": "text/x-python",
   "name": "python",
   "nbconvert_exporter": "python",
   "pygments_lexer": "ipython3",
   "version": "3.7.12"
  }
 },
 "nbformat": 4,
 "nbformat_minor": 5
}

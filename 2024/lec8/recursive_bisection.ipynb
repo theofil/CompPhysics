{
 "cells": [
  {
   "cell_type": "code",
   "execution_count": 14,
   "id": "4482b5f4-4384-4231-b950-6d292e9f909d",
   "metadata": {},
   "outputs": [],
   "source": [
    "# this code shows how to implement bisection using recursive function logic\n",
    "# you can find a more traditional implementation here: https://github.com/theofil/CompPhysics/blob/master/examples/bisection.ipynb\n",
    "# and an even more professional one here that uses np.sign : https://github.com/theofil/CompPhysics/blob/master/examples/bisectionRecursive.ipynb\n",
    "import numpy as np\n",
    "import matplotlib.pyplot as plt\n",
    "def f(x): return x**2 - 11*x + 25\n",
    "# def f(x): return 0.5*(np.exp(x) + np.exp(-x)) - 5"
   ]
  },
  {
   "cell_type": "code",
   "execution_count": 12,
   "id": "d9c64137-5c98-411e-8fa8-55b318bca6c9",
   "metadata": {},
   "outputs": [],
   "source": [
    "def bisection(a, b, f):\n",
    "    if f(a)*f(b) > 0: # np.sign(f(a))*np.sign(f(b)) > 0 is much better\n",
    "        print(\"can't apply bisection in this interval\")\n",
    "        return np.nan # not a number\n",
    "    c = 0.5*(a + b)\n",
    "    if f(c)*f(b) < 0: a = c\n",
    "    if f(a)*f(c) < 0: b = c\n",
    "    if abs(f(c))< 1e-10:\n",
    "        print('root found at x = ', c, ' with f(x) = ', f(c))\n",
    "        return c\n",
    "    else: bisection(a, b, f)       "
   ]
  },
  {
   "cell_type": "code",
   "execution_count": 13,
   "id": "b3ee8f7f-1af1-4b24-8ce6-0890b0c54f09",
   "metadata": {},
   "outputs": [
    {
     "name": "stdout",
     "output_type": "stream",
     "text": [
      "root found at x =  3.2087121525255498  with f(x) =  -1.5901946426311042e-11\n"
     ]
    }
   ],
   "source": [
    "bisection(2, 4, f)"
   ]
  },
  {
   "cell_type": "code",
   "execution_count": null,
   "id": "138c9e88-3c1a-44d4-8b8d-25da75da0bf7",
   "metadata": {},
   "outputs": [],
   "source": []
  }
 ],
 "metadata": {
  "kernelspec": {
   "display_name": "Python 3 (ipykernel)",
   "language": "python",
   "name": "python3"
  },
  "language_info": {
   "codemirror_mode": {
    "name": "ipython",
    "version": 3
   },
   "file_extension": ".py",
   "mimetype": "text/x-python",
   "name": "python",
   "nbconvert_exporter": "python",
   "pygments_lexer": "ipython3",
   "version": "3.9.12"
  }
 },
 "nbformat": 4,
 "nbformat_minor": 5
}

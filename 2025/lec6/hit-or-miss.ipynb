{
 "cells": [
  {
   "cell_type": "code",
   "execution_count": 3,
   "id": "8a840940",
   "metadata": {},
   "outputs": [],
   "source": [
    "import numpy as np\n",
    "import matplotlib.pyplot as plt\n",
    "U = np.random.rand"
   ]
  },
  {
   "cell_type": "code",
   "execution_count": 32,
   "id": "b39349b3",
   "metadata": {},
   "outputs": [],
   "source": [
    "def f(x,y,z):\n",
    "    return ( 5 / (648*(np.pi) ) )*(x*x + y*y)"
   ]
  },
  {
   "cell_type": "code",
   "execution_count": 61,
   "id": "91fa9da0",
   "metadata": {},
   "outputs": [
    {
     "name": "stdout",
     "output_type": "stream",
     "text": [
      "I = 1.00038 δI = 0.00925\n"
     ]
    }
   ],
   "source": [
    "# problem 12 \n",
    "# https://theofil.web.cern.ch/courses/compPhysics/files/2025/compPhysics_exercises_2025_2026.pdf\n",
    "N = 100000\n",
    "n = 0   # hits\n",
    "fmax = f(3,3,3) # conservative value\n",
    "# fmax = 5 / ((648*(np.pi) ) )*(9) # true fmax\n",
    "\n",
    "V = 6*6*6*fmax\n",
    "for i in range(N):\n",
    "    x = 6*U() - 3 \n",
    "    y = 6*U() - 3\n",
    "    z = 6*U() - 3\n",
    "    t = fmax*U()\n",
    "    if (x*x + y*y + z*z) <= 3**2 and t <= f(x,y,z):\n",
    "        n += 1\n",
    "        \n",
    "        \n",
    "p  = n/N\n",
    "I  = V*p\n",
    "δI = V*(p - p**2)**0.5/N**0.5 \n",
    "\n",
    "print('I = %2.5f δI = %2.5f'%(I, δI))\n",
    "# print(I, δI)"
   ]
  },
  {
   "cell_type": "code",
   "execution_count": 43,
   "id": "95c59bd1",
   "metadata": {},
   "outputs": [
    {
     "data": {
      "text/plain": [
       "20.085536923187668"
      ]
     },
     "execution_count": 43,
     "metadata": {},
     "output_type": "execute_result"
    }
   ],
   "source": [
    "V"
   ]
  },
  {
   "cell_type": "code",
   "execution_count": 39,
   "id": "565e39fc",
   "metadata": {},
   "outputs": [
    {
     "data": {
      "text/plain": [
       "0.04420970641441538"
      ]
     },
     "execution_count": 39,
     "metadata": {},
     "output_type": "execute_result"
    }
   ],
   "source": [
    "f(3,3,3)"
   ]
  },
  {
   "cell_type": "code",
   "execution_count": null,
   "id": "488fab1d",
   "metadata": {},
   "outputs": [],
   "source": []
  }
 ],
 "metadata": {
  "kernelspec": {
   "display_name": "Python 3 (ipykernel)",
   "language": "python",
   "name": "python3"
  },
  "language_info": {
   "codemirror_mode": {
    "name": "ipython",
    "version": 3
   },
   "file_extension": ".py",
   "mimetype": "text/x-python",
   "name": "python",
   "nbconvert_exporter": "python",
   "pygments_lexer": "ipython3",
   "version": "3.10.10"
  }
 },
 "nbformat": 4,
 "nbformat_minor": 5
}

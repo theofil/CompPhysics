{
 "cells": [
  {
   "cell_type": "code",
   "execution_count": 1,
   "id": "3d946555-c811-44dd-af30-ce386be07ede",
   "metadata": {},
   "outputs": [],
   "source": [
    "import numpy as np\n",
    "import matplotlib.pyplot as plt"
   ]
  },
  {
   "cell_type": "code",
   "execution_count": 14,
   "id": "39ec5e38-9b45-44c3-abec-a85c3890255d",
   "metadata": {},
   "outputs": [],
   "source": [
    "def g(x): return x**0.5 + 5\n",
    "#def g(x): return -x**0.5 + \n",
    "#def g(x): return (x-5)**2\n",
    "#def g(x): return x - (x**2 - 11*x + 25)/(2*x - 11) # this is NewtonRaphson   "
   ]
  },
  {
   "cell_type": "code",
   "execution_count": 15,
   "id": "ac92bcb2-b2ad-452a-b359-fa3f955c9abd",
   "metadata": {},
   "outputs": [
    {
     "name": "stdout",
     "output_type": "stream",
     "text": [
      "7.791287480203955\n"
     ]
    }
   ],
   "source": [
    "x = 1\n",
    "Nmax = 10\n",
    "for i in range(Nmax):\n",
    "    x = g(x)\n",
    "\n",
    "print(x)"
   ]
  },
  {
   "cell_type": "code",
   "execution_count": null,
   "id": "a8a3c773-6a02-49f5-8c12-4abb6ed2f5ca",
   "metadata": {},
   "outputs": [],
   "source": []
  }
 ],
 "metadata": {
  "kernelspec": {
   "display_name": "Python 3 (ipykernel)",
   "language": "python",
   "name": "python3"
  },
  "language_info": {
   "codemirror_mode": {
    "name": "ipython",
    "version": 3
   },
   "file_extension": ".py",
   "mimetype": "text/x-python",
   "name": "python",
   "nbconvert_exporter": "python",
   "pygments_lexer": "ipython3",
   "version": "3.9.12"
  }
 },
 "nbformat": 4,
 "nbformat_minor": 5
}

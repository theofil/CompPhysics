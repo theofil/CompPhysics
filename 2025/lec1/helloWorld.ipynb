{
 "cells": [
  {
   "cell_type": "code",
   "execution_count": 3,
   "id": "258999bb",
   "metadata": {},
   "outputs": [
    {
     "name": "stdout",
     "output_type": "stream",
     "text": [
      "1.0\n",
      "3.0 1.0\n"
     ]
    }
   ],
   "source": [
    "x = [3,2,4,1,2,3,4,3,4,4]\n",
    "\n",
    "N  = 10\n",
    "Σx = 0\n",
    "\n",
    "# how you would write a for loop in C\n",
    "# for(int i = 0; i<10 ; i++){Σx = Σx + x[i]; } \n",
    "\n",
    "\n",
    "# equivalent code in python -- note the code identation just below the :\n",
    "for i in range(N):\n",
    "    Σx = Σx + x[i] \n",
    "\n",
    "    \n",
    "μ   = Σx/N\n",
    "Σxμ2 = 0\n",
    "\n",
    "\n",
    "for i in range(N):\n",
    "    Σxμ2 = Σxμ2 + (x[i] - μ)**2\n",
    "\n",
    "    \n",
    "print(Σxμ2/N)\n",
    "\n",
    "### a better program with 1 for loop below\n",
    "\n",
    "# initialize again all variables\n",
    "N   = 10\n",
    "Σx  = 0\n",
    "Σx2 = 0\n",
    "\n",
    "\n",
    "for i in range(N):\n",
    "    Σx  = Σx + x[i]\n",
    "    Σx2 = Σx2 + x[i]*x[i]\n",
    " \n",
    "\n",
    "μ  = Σx/N\n",
    "σ2 = Σx2/N - μ**2\n",
    "σ  = σ2**0.5\n",
    "\n",
    "\n",
    "print(μ, σ)"
   ]
  },
  {
   "cell_type": "code",
   "execution_count": 8,
   "id": "2a6306e7",
   "metadata": {},
   "outputs": [
    {
     "name": "stdout",
     "output_type": "stream",
     "text": [
      "vectorized approach with numpy\n",
      "3.0 1.0\n"
     ]
    }
   ],
   "source": [
    "### an even more efficient pythonic program without any loop -- vectorized \n",
    "### this part was not shown during the lecture and is not part of the course\n",
    "\n",
    "print(\"vectorized approach with numpy\")\n",
    "\n",
    "import numpy as np # for efficient arrays, C-style\n",
    "\n",
    "x = [3,2,4,1,2,3,4,3,4,4]\n",
    "N = len(x)\n",
    "\n",
    "# promote x to numpy array\n",
    "x = np.array(x)\n",
    "\n",
    "μ = sum(x)/N\n",
    "σ = sum(x**2)/N - μ**2\n",
    "\n",
    "print(μ, σ)"
   ]
  },
  {
   "cell_type": "code",
   "execution_count": null,
   "id": "4232cda2",
   "metadata": {},
   "outputs": [],
   "source": []
  }
 ],
 "metadata": {
  "kernelspec": {
   "display_name": "Python 3 (ipykernel)",
   "language": "python",
   "name": "python3"
  },
  "language_info": {
   "codemirror_mode": {
    "name": "ipython",
    "version": 3
   },
   "file_extension": ".py",
   "mimetype": "text/x-python",
   "name": "python",
   "nbconvert_exporter": "python",
   "pygments_lexer": "ipython3",
   "version": "3.10.10"
  }
 },
 "nbformat": 4,
 "nbformat_minor": 5
}

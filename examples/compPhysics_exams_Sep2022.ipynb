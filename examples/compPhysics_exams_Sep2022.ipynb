{
 "cells": [
  {
   "cell_type": "code",
   "execution_count": 1,
   "id": "a8ca50ee",
   "metadata": {},
   "outputs": [],
   "source": [
    "import numpy as np\n",
    "import matplotlib.pyplot as plt"
   ]
  },
  {
   "cell_type": "code",
   "execution_count": 15,
   "id": "a7b7d4a9",
   "metadata": {},
   "outputs": [],
   "source": [
    "def V(r): return 4*(1/r**12 - 1/r**6)\n",
    "def u(r): return V(r) - 3\n",
    "def Vdot(r): return 24/r**7 - 48/r**13\n",
    "def udot(r): return Vdot(r)"
   ]
  },
  {
   "cell_type": "code",
   "execution_count": 38,
   "id": "9771e13f",
   "metadata": {},
   "outputs": [],
   "source": [
    "def newton(r):\n",
    "    Nmax = 100\n",
    "    for i in range(Nmax):\n",
    "        r = r - u(r)/udot(r)\n",
    "        print('r[%d] = %2.6f  V(r) = %2.10f'%(i, r, V(r)))\n",
    "        if abs(u(r)/udot(r)) < 1e-6:\n",
    "            print ('break because |rnew - r| < 1e-6')\n",
    "            break\n",
    "        if r<0 or r>10: \n",
    "            print ('break because r<0 or r>10')\n",
    "            break"
   ]
  },
  {
   "cell_type": "code",
   "execution_count": 39,
   "id": "4cedf1d2",
   "metadata": {},
   "outputs": [
    {
     "name": "stdout",
     "output_type": "stream",
     "text": [
      "r[0] = 0.875000  V(r) = 10.9465244756\n",
      "r[1] = 0.912619  V(r) = 5.0601605748\n",
      "r[2] = 0.931004  V(r) = 3.2902479853\n",
      "r[3] = 0.934544  V(r) = 3.0086041686\n",
      "r[4] = 0.934655  V(r) = 3.0000082044\n",
      "break because |rnew - r| < 1e-6\n"
     ]
    }
   ],
   "source": [
    "newton(r=1)"
   ]
  },
  {
   "cell_type": "code",
   "execution_count": 40,
   "id": "5a780a79",
   "metadata": {},
   "outputs": [
    {
     "name": "stdout",
     "output_type": "stream",
     "text": [
      "r[0] = -26.660423  V(r) = -0.0000000111\n",
      "break because r<0 or r>10\n"
     ]
    }
   ],
   "source": [
    "newton(r=1.12)\n",
    "# note that V(r) with r < 0 is unphysical"
   ]
  },
  {
   "cell_type": "code",
   "execution_count": 41,
   "id": "dc8da65e",
   "metadata": {},
   "outputs": [
    {
     "name": "stdout",
     "output_type": "stream",
     "text": [
      "r[0] = 18.854839  V(r) = -0.0000000890\n",
      "break because r<0 or r>10\n"
     ]
    }
   ],
   "source": [
    "newton(r=2)"
   ]
  },
  {
   "cell_type": "code",
   "execution_count": 47,
   "id": "6c0cd188",
   "metadata": {},
   "outputs": [
    {
     "data": {
      "text/plain": [
       "[<matplotlib.lines.Line2D at 0x1262941c0>]"
      ]
     },
     "execution_count": 47,
     "metadata": {},
     "output_type": "execute_result"
    },
    {
     "data": {
      "image/png": "[encoded data removed]",
      "text/plain": [
       "<Figure size 640x480 with 1 Axes>"
      ]
     },
     "metadata": {},
     "output_type": "display_data"
    }
   ],
   "source": [
    "xs = np.linspace(0.93,2,100)\n",
    "plt.plot(xs, V(xs))\n",
    "# plt.plot(xs, u(xs))"
   ]
  },
  {
   "cell_type": "code",
   "execution_count": 49,
   "id": "dcd28566",
   "metadata": {},
   "outputs": [
    {
     "data": {
      "text/plain": [
       "-1.0"
      ]
     },
     "execution_count": 49,
     "metadata": {},
     "output_type": "execute_result"
    }
   ],
   "source": [
    "V(2**(1/6.))"
   ]
  },
  {
   "cell_type": "code",
   "execution_count": 50,
   "id": "b31fd970",
   "metadata": {},
   "outputs": [
    {
     "data": {
      "text/plain": [
       "-1.0"
      ]
     },
     "execution_count": 50,
     "metadata": {},
     "output_type": "execute_result"
    }
   ],
   "source": [
    "(1/4. - 1/2.)*4"
   ]
  },
  {
   "cell_type": "code",
   "execution_count": null,
   "id": "ec998175",
   "metadata": {},
   "outputs": [],
   "source": []
  }
 ],
 "metadata": {
  "kernelspec": {
   "display_name": "Python 3 (ipykernel)",
   "language": "python",
   "name": "python3"
  },
  "language_info": {
   "codemirror_mode": {
    "name": "ipython",
    "version": 3
   },
   "file_extension": ".py",
   "mimetype": "text/x-python",
   "name": "python",
   "nbconvert_exporter": "python",
   "pygments_lexer": "ipython3",
   "version": "3.9.12"
  }
 },
 "nbformat": 4,
 "nbformat_minor": 5
}

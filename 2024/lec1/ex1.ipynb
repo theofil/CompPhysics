{
 "cells": [
  {
   "cell_type": "code",
   "execution_count": 1,
   "id": "a027bf7f-02e5-4928-9994-d16794255645",
   "metadata": {},
   "outputs": [
    {
     "name": "stdout",
     "output_type": "stream",
     "text": [
      "Σx =  30\n",
      "1.0\n"
     ]
    }
   ],
   "source": [
    "xs = [3, 2, 4, 1, 2, 3, 4, 3, 4, 4]\n",
    "Σx = 0\n",
    "for x in xs:\n",
    "#     print(x, Σx)\n",
    "    Σx = Σx + x \n",
    "\n",
    "\n",
    "print(\"Σx = \", Σx)\n",
    "N = 10\n",
    "μ = Σx/N\n",
    "var = 0\n",
    "for k in range(N):\n",
    "#     print((xs[k] - μ)**2)\n",
    "    var = var + (xs[k] - μ)**2\n",
    "    \n",
    "var = var/N    \n",
    "print(var)"
   ]
  },
  {
   "cell_type": "code",
   "execution_count": 2,
   "id": "17993cc0-4ce1-45ab-a2c8-f52f31d6f60b",
   "metadata": {},
   "outputs": [
    {
     "data": {
      "text/plain": [
       "[3, 2, 4, 1, 2, 3, 4, 3, 4, 4]"
      ]
     },
     "execution_count": 2,
     "metadata": {},
     "output_type": "execute_result"
    }
   ],
   "source": [
    "xs"
   ]
  },
  {
   "cell_type": "code",
   "execution_count": 3,
   "id": "402216ec-ea8b-4aa7-9ce2-a4b984080822",
   "metadata": {},
   "outputs": [
    {
     "name": "stdout",
     "output_type": "stream",
     "text": [
      "σ2 = 1.0\n"
     ]
    }
   ],
   "source": [
    "Σx  = 0\n",
    "Σx2 = 0\n",
    "for x in xs:\n",
    "    Σx  = Σx + x\n",
    "    Σx2 = Σx2 + x*x\n",
    "\n",
    "N  = len(xs)    \n",
    "μ  = Σx/N\n",
    "σ2 = Σx2/N - μ**2\n",
    "print(\"σ2 =\", σ2 )"
   ]
  },
  {
   "cell_type": "code",
   "execution_count": 4,
   "id": "b254bff3-a0d8-411b-8ecd-bed97e2e4611",
   "metadata": {},
   "outputs": [],
   "source": [
    "import matplotlib.pyplot as plt"
   ]
  },
  {
   "cell_type": "code",
   "execution_count": 5,
   "id": "11121d42-42b4-4f44-aedb-313b12beb59c",
   "metadata": {},
   "outputs": [
    {
     "data": {
      "text/plain": [
       "(array([0., 1., 2., 3., 4., 0., 0.]),\n",
       " array([0., 1., 2., 3., 4., 5., 6., 7.]),\n",
       " <BarContainer object of 7 artists>)"
      ]
     },
     "execution_count": 5,
     "metadata": {},
     "output_type": "execute_result"
    },
    {
     "data": {
      "image/png": "[encoded data removed]",
      "text/plain": [
       "<Figure size 640x480 with 1 Axes>"
      ]
     },
     "metadata": {},
     "output_type": "display_data"
    }
   ],
   "source": [
    "plt.hist(xs, bins = [0,1,2,3,4,5,6,7], ec = 'black')"
   ]
  },
  {
   "cell_type": "code",
   "execution_count": null,
   "id": "a06c25de-8ba0-4c4f-97f4-4c948d359456",
   "metadata": {},
   "outputs": [],
   "source": []
  }
 ],
 "metadata": {
  "kernelspec": {
   "display_name": "Python 3 (ipykernel)",
   "language": "python",
   "name": "python3"
  },
  "language_info": {
   "codemirror_mode": {
    "name": "ipython",
    "version": 3
   },
   "file_extension": ".py",
   "mimetype": "text/x-python",
   "name": "python",
   "nbconvert_exporter": "python",
   "pygments_lexer": "ipython3",
   "version": "3.9.12"
  }
 },
 "nbformat": 4,
 "nbformat_minor": 5
}

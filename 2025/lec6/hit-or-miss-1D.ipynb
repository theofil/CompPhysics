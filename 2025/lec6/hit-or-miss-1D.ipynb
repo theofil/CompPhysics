{
 "cells": [
  {
   "cell_type": "code",
   "execution_count": 1,
   "id": "3106266b",
   "metadata": {},
   "outputs": [],
   "source": [
    "# integral of exp(x) between 2 and 3\n",
    "import numpy as np\n",
    "import matplotlib.pyplot as plt\n",
    "U = np.random.rand"
   ]
  },
  {
   "cell_type": "code",
   "execution_count": 10,
   "id": "7f5eac0e",
   "metadata": {},
   "outputs": [],
   "source": [
    "f = np.exp"
   ]
  },
  {
   "cell_type": "code",
   "execution_count": 12,
   "id": "83377116",
   "metadata": {},
   "outputs": [],
   "source": [
    "a, b = 2, 3\n",
    "\n",
    "fmax = f(b)"
   ]
  },
  {
   "cell_type": "code",
   "execution_count": 30,
   "id": "e6149b5c",
   "metadata": {},
   "outputs": [
    {
     "name": "stdout",
     "output_type": "stream",
     "text": [
      "I = 12.68000 δI = 0.09690\n"
     ]
    }
   ],
   "source": [
    "N = 10**4  # total trials\n",
    "n = 0      # counter for hits\n",
    "\n",
    "V = fmax*(b - a)\n",
    "for i in range(N):\n",
    "    x = U()*(b - a) + a\n",
    "    y = U()*fmax\n",
    "    if y <= f(x): n += 1 # hit\n",
    "\n",
    "p  = n/N\n",
    "I  = V*p\n",
    "δI = V*(p - p**2)**0.5/N**0.5 \n",
    "\n",
    "print('I = %2.5f δI = %2.5f'%(I, δI))\n",
    "# print(I, δI)"
   ]
  },
  {
   "cell_type": "code",
   "execution_count": 28,
   "id": "facf0b88",
   "metadata": {},
   "outputs": [
    {
     "name": "stdout",
     "output_type": "stream",
     "text": [
      "Iexp = 12.696 δIexp = 0.097\n"
     ]
    }
   ],
   "source": [
    "Iexp = f(3) - f(2)\n",
    "δIexp = 0.096858\n",
    "\n",
    "print('Iexp = %2.3f δIexp = %2.3f'%(Iexp, δIexp))\n"
   ]
  },
  {
   "cell_type": "code",
   "execution_count": null,
   "id": "46335a86",
   "metadata": {},
   "outputs": [],
   "source": []
  }
 ],
 "metadata": {
  "kernelspec": {
   "display_name": "Python 3 (ipykernel)",
   "language": "python",
   "name": "python3"
  },
  "language_info": {
   "codemirror_mode": {
    "name": "ipython",
    "version": 3
   },
   "file_extension": ".py",
   "mimetype": "text/x-python",
   "name": "python",
   "nbconvert_exporter": "python",
   "pygments_lexer": "ipython3",
   "version": "3.10.10"
  }
 },
 "nbformat": 4,
 "nbformat_minor": 5
}

{
 "cells": [
  {
   "cell_type": "code",
   "execution_count": 38,
   "id": "c3e42b9d-3396-421c-a8e2-4757bae57570",
   "metadata": {},
   "outputs": [],
   "source": [
    "import numpy as np\n",
    "import matplotlib.pyplot as plt\n",
    "# def f(x): return 0.5*(np.exp(x) + np.exp(-x)) - 5\n",
    "# def df(x): return 0.5*(np.exp(x) - np.exp(-x))\n",
    "def f(x): return x**2 - 11*x + 25\n",
    "def df(x): return 2*x - 11"
   ]
  },
  {
   "cell_type": "code",
   "execution_count": 39,
   "id": "0742ac3a-5dac-488a-9b6a-45554fc99dee",
   "metadata": {},
   "outputs": [
    {
     "name": "stdout",
     "output_type": "stream",
     "text": [
      "stopping iterations, desired precision reached\n",
      "root at x =  3.2087121525220614  f(newX) =  8.526512829121202e-14\n"
     ]
    }
   ],
   "source": [
    "Nmax  = 100000\n",
    "x = np.log(2)\n",
    "for i in range(Nmax):\n",
    "    if abs(f(x)) < 0.0000001:\n",
    "        print('stopping iterations, desired precision reached')\n",
    "        print('root at x = ', x,  ' f(newX) = ', f(x))\n",
    "        break \n",
    "    else : x = x - f(x)/df(x)    "
   ]
  },
  {
   "cell_type": "code",
   "execution_count": 40,
   "id": "1f73d23b-40bf-4ba0-ab2b-b53e206e311a",
   "metadata": {},
   "outputs": [],
   "source": [
    "# Nmax  = 100000\n",
    "# x = np.log(2)\n",
    "# for i in range(Nmax):\n",
    "#     newX =  x - f(x)/df(x)\n",
    "#     if abs(newX - x) < 0.0000001:\n",
    "#         print('stopping iterations, desired precision reached')\n",
    "#         print('root at x = ', newX,  ' f(newX) = ', f(newX))\n",
    "#         break \n",
    "#     else : x = x - f(x)/df(x)\n",
    "    "
   ]
  },
  {
   "cell_type": "code",
   "execution_count": null,
   "id": "f94c79b0-c7da-496c-a506-2a4fdbb591dd",
   "metadata": {},
   "outputs": [],
   "source": []
  },
  {
   "cell_type": "code",
   "execution_count": null,
   "id": "5643928d-15f3-4fec-837c-29fded28d3d8",
   "metadata": {},
   "outputs": [],
   "source": []
  }
 ],
 "metadata": {
  "kernelspec": {
   "display_name": "Python 3 (ipykernel)",
   "language": "python",
   "name": "python3"
  },
  "language_info": {
   "codemirror_mode": {
    "name": "ipython",
    "version": 3
   },
   "file_extension": ".py",
   "mimetype": "text/x-python",
   "name": "python",
   "nbconvert_exporter": "python",
   "pygments_lexer": "ipython3",
   "version": "3.9.12"
  }
 },
 "nbformat": 4,
 "nbformat_minor": 5
}
